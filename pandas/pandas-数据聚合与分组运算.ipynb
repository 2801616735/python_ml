{
 "cells": [
  {
   "cell_type": "markdown",
   "metadata": {},
   "source": [
    "# 数据聚合与分组运算"
   ]
  },
  {
   "cell_type": "code",
   "execution_count": 1,
   "metadata": {},
   "outputs": [],
   "source": [
    "import pandas as pd\n",
    "import numpy as np"
   ]
  },
  {
   "cell_type": "markdown",
   "metadata": {},
   "source": [
    "## 1、groupby函数"
   ]
  },
  {
   "cell_type": "code",
   "execution_count": 25,
   "metadata": {},
   "outputs": [
    {
     "name": "stdout",
     "output_type": "stream",
     "text": [
      "  key1  data1 key2  data2\n",
      "0    a      1   a1      1\n",
      "1    b      2   a1      2\n",
      "2    c      3   c1      3\n",
      "3    a      4   d1      5\n",
      "4    b      5   a1      4\n"
     ]
    }
   ],
   "source": [
    "df = pd.DataFrame({'key1':['a','b','c','a','b'],'data1':[1,2,3,4,5],'key2':['a1','a1','c1','d1','a1'],'data2':[1,2,3,5,4]})\n",
    "print(df)"
   ]
  },
  {
   "cell_type": "code",
   "execution_count": 18,
   "metadata": {
    "collapsed": true
   },
   "outputs": [
    {
     "name": "stdout",
     "output_type": "stream",
     "text": [
      "key1  data1\n",
      "a     1        1\n",
      "      4        1\n",
      "b     2        1\n",
      "      5        1\n",
      "c     3        1\n",
      "Name: data1, dtype: int64\n",
      "      count  mean      std  min   25%  50%   75%  max\n",
      "key1                                                 \n",
      "a       2.0   2.5  2.12132  1.0  1.75  2.5  3.25  4.0\n",
      "b       2.0   3.5  2.12132  2.0  2.75  3.5  4.25  5.0\n",
      "c       1.0   3.0      NaN  3.0  3.00  3.0  3.00  3.0\n"
     ]
    }
   ],
   "source": [
    "# 以key1为分组条件，对data1进行分组\n",
    "dg1 = df['data1'].groupby(df['key1'])\n",
    "# 结果如下\n",
    "# a 1 4\n",
    "# b 2 5\n",
    "# c 3\n",
    "\n",
    "# 打印分组的个数情况\n",
    "print(dg1.value_counts())\n",
    "\n",
    "# 求每个类别的统计描述\n",
    "print(dg1.describe())"
   ]
  },
  {
   "cell_type": "code",
   "execution_count": 21,
   "metadata": {
    "collapsed": true
   },
   "outputs": [
    {
     "name": "stdout",
     "output_type": "stream",
     "text": [
      "key1  key2  data1\n",
      "a     a1    1        1\n",
      "      d1    4        1\n",
      "b     a1    2        1\n",
      "            5        1\n",
      "c     c1    3        1\n",
      "Name: data1, dtype: int64\n",
      "           count  mean      std  min   25%  50%   75%  max\n",
      "key1 key2                                                 \n",
      "a    a1      1.0   1.0      NaN  1.0  1.00  1.0  1.00  1.0\n",
      "     d1      1.0   4.0      NaN  4.0  4.00  4.0  4.00  4.0\n",
      "b    a1      2.0   3.5  2.12132  2.0  2.75  3.5  4.25  5.0\n",
      "c    c1      1.0   3.0      NaN  3.0  3.00  3.0  3.00  3.0\n"
     ]
    }
   ],
   "source": [
    "# 以key1、key2为分组条件，对data1进行分组\n",
    "dg2 = df['data1'].groupby([df['key1'],df['key2']])\n",
    "\n",
    "# 打印分组的个数情况\n",
    "print(dg2.value_counts())\n",
    "\n",
    "# 求每个类别的统计描述\n",
    "print(dg2.describe())"
   ]
  },
  {
   "cell_type": "code",
   "execution_count": 28,
   "metadata": {
    "collapsed": true
   },
   "outputs": [
    {
     "name": "stdout",
     "output_type": "stream",
     "text": [
      "      data1  data2\n",
      "key1              \n",
      "a         5      6\n",
      "b         7      6\n",
      "c         3      3\n",
      "key1\n",
      "a    2\n",
      "b    2\n",
      "c    1\n",
      "dtype: int64\n"
     ]
    }
   ],
   "source": [
    "# 以key1为分组\n",
    "dg3 = df.groupby('key1')\n",
    "# 打印分组的个数情况\n",
    "print(dg3.sum())\n",
    "\n",
    "# 每个分组的个数\n",
    "print(dg3.size())"
   ]
  },
  {
   "cell_type": "code",
   "execution_count": 34,
   "metadata": {
    "collapsed": true
   },
   "outputs": [
    {
     "name": "stdout",
     "output_type": "stream",
     "text": [
      "a\n",
      "====\n",
      "  key1  data1 key2  data2\n",
      "0    a      1   a1      1\n",
      "3    a      4   d1      5\n",
      "---------------\n",
      "b\n",
      "====\n",
      "  key1  data1 key2  data2\n",
      "1    b      2   a1      2\n",
      "4    b      5   a1      4\n",
      "---------------\n",
      "c\n",
      "====\n",
      "  key1  data1 key2  data2\n",
      "2    c      3   c1      3\n",
      "---------------\n",
      "('a', 'a1')\n",
      "====\n",
      "  key1  data1 key2  data2\n",
      "0    a      1   a1      1\n",
      "---------------\n",
      "('a', 'd1')\n",
      "====\n",
      "  key1  data1 key2  data2\n",
      "3    a      4   d1      5\n",
      "---------------\n",
      "('b', 'a1')\n",
      "====\n",
      "  key1  data1 key2  data2\n",
      "1    b      2   a1      2\n",
      "4    b      5   a1      4\n",
      "---------------\n",
      "('c', 'c1')\n",
      "====\n",
      "  key1  data1 key2  data2\n",
      "2    c      3   c1      3\n",
      "---------------\n"
     ]
    }
   ],
   "source": [
    "# 分组迭代\n",
    "for name,group in df.groupby('key1'):\n",
    "    print(name)\n",
    "    print(\"====\")\n",
    "    print(group)\n",
    "    print('---------------')\n",
    "    \n",
    "for name,group in df.groupby(['key1','key2']):\n",
    "    print(name)\n",
    "    print(\"====\")\n",
    "    print(group)\n",
    "    print('---------------')"
   ]
  },
  {
   "cell_type": "markdown",
   "metadata": {},
   "source": [
    "## 2、数据聚合\n",
    "**即对已分组好的组进行函数处理**"
   ]
  },
  {
   "cell_type": "code",
   "execution_count": 64,
   "metadata": {
    "collapsed": true
   },
   "outputs": [
    {
     "name": "stdout",
     "output_type": "stream",
     "text": [
      "      data1  data2\n",
      "key1              \n",
      "a         3      4\n",
      "b         3      2\n",
      "c         0      0\n",
      "     data1             data2            \n",
      "       sum max max_min   sum max max_min\n",
      "key1                                    \n",
      "a        5   4       3     6   5       4\n",
      "b        7   5       3     6   4       2\n",
      "c        3   3       0     3   3       0\n"
     ]
    }
   ],
   "source": [
    "# 对dg3的分组，各组进行求和\n",
    "# print(dg3.sum())\n",
    "\n",
    "# 对dg3的分组，各组进行求最大值\n",
    "# print(dg3.max())\n",
    "\n",
    "# 对dg3的分组，各组进行求最小值\n",
    "# print(dg3.min())\n",
    "\n",
    "\n",
    "# 自定义聚合函数\n",
    "def max_min(arr):\n",
    "    return arr.max() - arr.min()\n",
    "    \n",
    "print(dg3.agg(max_min))\n",
    "\n",
    "# 同时调用多个聚合函数\n",
    "print(dg3.agg(['sum','max',max_min]))"
   ]
  },
  {
   "cell_type": "code",
   "execution_count": 81,
   "metadata": {
    "collapsed": true
   },
   "outputs": [
    {
     "name": "stdout",
     "output_type": "stream",
     "text": [
      "key1\n",
      "a    2\n",
      "b    2\n",
      "c    1\n",
      "Name: data1, dtype: int64\n",
      "0    5\n",
      "1    7\n",
      "2    3\n",
      "3    5\n",
      "4    7\n",
      "Name: data1, dtype: int64\n",
      "key1\n",
      "a    4\n",
      "b    5\n",
      "c    3\n",
      "Name: data1, dtype: int64\n",
      "  key1  data1 key2  data2  data1\n",
      "0    a      1   a1      1      5\n",
      "1    b      2   a1      2      7\n",
      "2    c      3   c1      3      3\n",
      "3    a      4   d1      5      5\n",
      "4    b      5   a1      4      7\n"
     ]
    }
   ],
   "source": [
    "print(dg1.size())\n",
    "print(dg1.transform(sum))\n",
    "print(dg1.apply(max))\n",
    "print(pd.concat([df,dg1.transform(sum)],axis=1))"
   ]
  }
 ],
 "metadata": {
  "kernelspec": {
   "display_name": "Python 3",
   "language": "python",
   "name": "python3"
  },
  "language_info": {
   "codemirror_mode": {
    "name": "ipython",
    "version": 3
   },
   "file_extension": ".py",
   "mimetype": "text/x-python",
   "name": "python",
   "nbconvert_exporter": "python",
   "pygments_lexer": "ipython3",
   "version": "3.6.5"
  }
 },
 "nbformat": 4,
 "nbformat_minor": 2
}
