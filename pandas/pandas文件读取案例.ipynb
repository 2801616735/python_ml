{
 "cells": [
  {
   "cell_type": "markdown",
   "metadata": {},
   "source": [
    "# pandas文件读取案例"
   ]
  },
  {
   "cell_type": "code",
   "execution_count": 69,
   "metadata": {},
   "outputs": [],
   "source": [
    "import pandas as pd\n",
    "import numpy as np\n",
    "file_name = \"../file/student1.csv\""
   ]
  },
  {
   "cell_type": "code",
   "execution_count": 158,
   "metadata": {},
   "outputs": [
    {
     "data": {
      "text/html": [
       "<div>\n",
       "<style scoped>\n",
       "    .dataframe tbody tr th:only-of-type {\n",
       "        vertical-align: middle;\n",
       "    }\n",
       "\n",
       "    .dataframe tbody tr th {\n",
       "        vertical-align: top;\n",
       "    }\n",
       "\n",
       "    .dataframe thead th {\n",
       "        text-align: right;\n",
       "    }\n",
       "</style>\n",
       "<table border=\"1\" class=\"dataframe\">\n",
       "  <thead>\n",
       "    <tr style=\"text-align: right;\">\n",
       "      <th></th>\n",
       "      <th>name</th>\n",
       "      <th>sex</th>\n",
       "      <th>math</th>\n",
       "      <th>chinese</th>\n",
       "      <th>english</th>\n",
       "    </tr>\n",
       "  </thead>\n",
       "  <tbody>\n",
       "    <tr>\n",
       "      <th>0</th>\n",
       "      <td>a</td>\n",
       "      <td>boy</td>\n",
       "      <td>80.0</td>\n",
       "      <td>76.0</td>\n",
       "      <td>70.0</td>\n",
       "    </tr>\n",
       "    <tr>\n",
       "      <th>1</th>\n",
       "      <td>b</td>\n",
       "      <td>girl</td>\n",
       "      <td>90.0</td>\n",
       "      <td>65.0</td>\n",
       "      <td>75.0</td>\n",
       "    </tr>\n",
       "    <tr>\n",
       "      <th>2</th>\n",
       "      <td>c</td>\n",
       "      <td>boy</td>\n",
       "      <td>87.0</td>\n",
       "      <td>76.0</td>\n",
       "      <td>NaN</td>\n",
       "    </tr>\n",
       "    <tr>\n",
       "      <th>3</th>\n",
       "      <td>d</td>\n",
       "      <td>girl</td>\n",
       "      <td>NaN</td>\n",
       "      <td>70.0</td>\n",
       "      <td>80.0</td>\n",
       "    </tr>\n",
       "    <tr>\n",
       "      <th>4</th>\n",
       "      <td>e</td>\n",
       "      <td>boy</td>\n",
       "      <td>57.0</td>\n",
       "      <td>NaN</td>\n",
       "      <td>90.0</td>\n",
       "    </tr>\n",
       "    <tr>\n",
       "      <th>5</th>\n",
       "      <td>f</td>\n",
       "      <td>boy</td>\n",
       "      <td>60.0</td>\n",
       "      <td>55.0</td>\n",
       "      <td>88.0</td>\n",
       "    </tr>\n",
       "  </tbody>\n",
       "</table>\n",
       "</div>"
      ],
      "text/plain": [
       "  name   sex  math  chinese  english\n",
       "0    a   boy  80.0     76.0     70.0\n",
       "1    b  girl  90.0     65.0     75.0\n",
       "2    c   boy  87.0     76.0      NaN\n",
       "3    d  girl   NaN     70.0     80.0\n",
       "4    e   boy  57.0      NaN     90.0\n",
       "5    f   boy  60.0     55.0     88.0"
      ]
     },
     "execution_count": 158,
     "metadata": {},
     "output_type": "execute_result"
    }
   ],
   "source": [
    "csv = pd.read_csv(file_name)\n",
    "csv"
   ]
  },
  {
   "cell_type": "markdown",
   "metadata": {},
   "source": [
    "## 1、预处理\n",
    "**本案例主要解决数据为空的情况**"
   ]
  },
  {
   "cell_type": "code",
   "execution_count": 159,
   "metadata": {},
   "outputs": [
    {
     "name": "stdout",
     "output_type": "stream",
     "text": [
      "  name   sex  math  chinese  english\n",
      "3    d  girl   NaN     70.0     80.0\n",
      "  name  sex  math  chinese  english\n",
      "4    e  boy  57.0      NaN     90.0\n",
      "  name  sex  math  chinese  english\n",
      "2    c  boy  87.0     76.0      NaN\n"
     ]
    },
    {
     "data": {
      "text/html": [
       "<div>\n",
       "<style scoped>\n",
       "    .dataframe tbody tr th:only-of-type {\n",
       "        vertical-align: middle;\n",
       "    }\n",
       "\n",
       "    .dataframe tbody tr th {\n",
       "        vertical-align: top;\n",
       "    }\n",
       "\n",
       "    .dataframe thead th {\n",
       "        text-align: right;\n",
       "    }\n",
       "</style>\n",
       "<table border=\"1\" class=\"dataframe\">\n",
       "  <thead>\n",
       "    <tr style=\"text-align: right;\">\n",
       "      <th></th>\n",
       "      <th>name</th>\n",
       "      <th>sex</th>\n",
       "      <th>math</th>\n",
       "      <th>chinese</th>\n",
       "      <th>english</th>\n",
       "    </tr>\n",
       "  </thead>\n",
       "  <tbody>\n",
       "    <tr>\n",
       "      <th>0</th>\n",
       "      <td>a</td>\n",
       "      <td>boy</td>\n",
       "      <td>80.0</td>\n",
       "      <td>76.0</td>\n",
       "      <td>70.0</td>\n",
       "    </tr>\n",
       "    <tr>\n",
       "      <th>1</th>\n",
       "      <td>b</td>\n",
       "      <td>girl</td>\n",
       "      <td>90.0</td>\n",
       "      <td>65.0</td>\n",
       "      <td>75.0</td>\n",
       "    </tr>\n",
       "    <tr>\n",
       "      <th>2</th>\n",
       "      <td>c</td>\n",
       "      <td>boy</td>\n",
       "      <td>87.0</td>\n",
       "      <td>76.0</td>\n",
       "      <td>0.0</td>\n",
       "    </tr>\n",
       "    <tr>\n",
       "      <th>3</th>\n",
       "      <td>d</td>\n",
       "      <td>girl</td>\n",
       "      <td>0.0</td>\n",
       "      <td>70.0</td>\n",
       "      <td>80.0</td>\n",
       "    </tr>\n",
       "    <tr>\n",
       "      <th>4</th>\n",
       "      <td>e</td>\n",
       "      <td>boy</td>\n",
       "      <td>57.0</td>\n",
       "      <td>0.0</td>\n",
       "      <td>90.0</td>\n",
       "    </tr>\n",
       "    <tr>\n",
       "      <th>5</th>\n",
       "      <td>f</td>\n",
       "      <td>boy</td>\n",
       "      <td>60.0</td>\n",
       "      <td>55.0</td>\n",
       "      <td>88.0</td>\n",
       "    </tr>\n",
       "  </tbody>\n",
       "</table>\n",
       "</div>"
      ],
      "text/plain": [
       "  name   sex  math  chinese  english\n",
       "0    a   boy  80.0     76.0     70.0\n",
       "1    b  girl  90.0     65.0     75.0\n",
       "2    c   boy  87.0     76.0      0.0\n",
       "3    d  girl   0.0     70.0     80.0\n",
       "4    e   boy  57.0      0.0     90.0\n",
       "5    f   boy  60.0     55.0     88.0"
      ]
     },
     "execution_count": 159,
     "metadata": {},
     "output_type": "execute_result"
    }
   ],
   "source": [
    "# 获取各个科目没成绩的同学\n",
    "isnull = csv[['math','chinese','english']].isnull()\n",
    "print(csv[ isnull['math'] ])\n",
    "\n",
    "print(csv[isnull['chinese']])\n",
    "\n",
    "print(csv[isnull['english']])\n",
    "\n",
    "# 把各科没成绩的科目，设置为0\n",
    "csv['math'].fillna(0, inplace=True)\n",
    "csv['chinese'].fillna(0, inplace=True)\n",
    "csv['english'].fillna(0, inplace=True)\n",
    "\n",
    "csv"
   ]
  },
  {
   "cell_type": "markdown",
   "metadata": {},
   "source": [
    "## 2、统计函数"
   ]
  },
  {
   "cell_type": "code",
   "execution_count": 160,
   "metadata": {},
   "outputs": [
    {
     "data": {
      "text/html": [
       "<div>\n",
       "<style scoped>\n",
       "    .dataframe tbody tr th:only-of-type {\n",
       "        vertical-align: middle;\n",
       "    }\n",
       "\n",
       "    .dataframe tbody tr th {\n",
       "        vertical-align: top;\n",
       "    }\n",
       "\n",
       "    .dataframe thead th {\n",
       "        text-align: right;\n",
       "    }\n",
       "</style>\n",
       "<table border=\"1\" class=\"dataframe\">\n",
       "  <thead>\n",
       "    <tr style=\"text-align: right;\">\n",
       "      <th></th>\n",
       "      <th>name</th>\n",
       "      <th>sex</th>\n",
       "      <th>math</th>\n",
       "      <th>chinese</th>\n",
       "      <th>english</th>\n",
       "      <th>sum</th>\n",
       "      <th>mean</th>\n",
       "      <th>max</th>\n",
       "      <th>min</th>\n",
       "    </tr>\n",
       "  </thead>\n",
       "  <tbody>\n",
       "    <tr>\n",
       "      <th>0</th>\n",
       "      <td>a</td>\n",
       "      <td>boy</td>\n",
       "      <td>80.0</td>\n",
       "      <td>76.0</td>\n",
       "      <td>70.0</td>\n",
       "      <td>226.0</td>\n",
       "      <td>76.0</td>\n",
       "      <td>80.0</td>\n",
       "      <td>70.0</td>\n",
       "    </tr>\n",
       "    <tr>\n",
       "      <th>1</th>\n",
       "      <td>b</td>\n",
       "      <td>girl</td>\n",
       "      <td>90.0</td>\n",
       "      <td>65.0</td>\n",
       "      <td>75.0</td>\n",
       "      <td>230.0</td>\n",
       "      <td>77.0</td>\n",
       "      <td>90.0</td>\n",
       "      <td>65.0</td>\n",
       "    </tr>\n",
       "    <tr>\n",
       "      <th>2</th>\n",
       "      <td>c</td>\n",
       "      <td>boy</td>\n",
       "      <td>87.0</td>\n",
       "      <td>76.0</td>\n",
       "      <td>0.0</td>\n",
       "      <td>163.0</td>\n",
       "      <td>55.0</td>\n",
       "      <td>87.0</td>\n",
       "      <td>0.0</td>\n",
       "    </tr>\n",
       "    <tr>\n",
       "      <th>3</th>\n",
       "      <td>d</td>\n",
       "      <td>girl</td>\n",
       "      <td>0.0</td>\n",
       "      <td>70.0</td>\n",
       "      <td>80.0</td>\n",
       "      <td>150.0</td>\n",
       "      <td>50.0</td>\n",
       "      <td>80.0</td>\n",
       "      <td>0.0</td>\n",
       "    </tr>\n",
       "    <tr>\n",
       "      <th>4</th>\n",
       "      <td>e</td>\n",
       "      <td>boy</td>\n",
       "      <td>57.0</td>\n",
       "      <td>0.0</td>\n",
       "      <td>90.0</td>\n",
       "      <td>147.0</td>\n",
       "      <td>49.0</td>\n",
       "      <td>90.0</td>\n",
       "      <td>0.0</td>\n",
       "    </tr>\n",
       "    <tr>\n",
       "      <th>5</th>\n",
       "      <td>f</td>\n",
       "      <td>boy</td>\n",
       "      <td>60.0</td>\n",
       "      <td>55.0</td>\n",
       "      <td>88.0</td>\n",
       "      <td>203.0</td>\n",
       "      <td>68.0</td>\n",
       "      <td>88.0</td>\n",
       "      <td>55.0</td>\n",
       "    </tr>\n",
       "  </tbody>\n",
       "</table>\n",
       "</div>"
      ],
      "text/plain": [
       "  name   sex  math  chinese  english    sum  mean   max   min\n",
       "0    a   boy  80.0     76.0     70.0  226.0  76.0  80.0  70.0\n",
       "1    b  girl  90.0     65.0     75.0  230.0  77.0  90.0  65.0\n",
       "2    c   boy  87.0     76.0      0.0  163.0  55.0  87.0   0.0\n",
       "3    d  girl   0.0     70.0     80.0  150.0  50.0  80.0   0.0\n",
       "4    e   boy  57.0      0.0     90.0  147.0  49.0  90.0   0.0\n",
       "5    f   boy  60.0     55.0     88.0  203.0  68.0  88.0  55.0"
      ]
     },
     "execution_count": 160,
     "metadata": {},
     "output_type": "execute_result"
    }
   ],
   "source": [
    "# 计算 三门功课分数之和\n",
    "csv['sum'] = csv[['math','english','chinese']].sum(axis=1) # csv['math'] + csv['chinese'] + csv['english']\n",
    "\n",
    "# 计算 三门功课分数的平均值\n",
    "csv['mean'] = np.ceil(csv['sum']/3)\n",
    "\n",
    "# 计算 三门功课分数的最大值\n",
    "csv['max'] = np.max(csv[['math','english','chinese']],axis=1)\n",
    "\n",
    "# 计算 三门功课分数的最小值\n",
    "csv['min'] = np.min(csv[['math','english','chinese']],axis=1)\n",
    "csv"
   ]
  },
  {
   "cell_type": "markdown",
   "metadata": {},
   "source": [
    "## 3、分组操作"
   ]
  },
  {
   "cell_type": "code",
   "execution_count": 166,
   "metadata": {},
   "outputs": [
    {
     "data": {
      "text/html": [
       "<div>\n",
       "<style scoped>\n",
       "    .dataframe tbody tr th:only-of-type {\n",
       "        vertical-align: middle;\n",
       "    }\n",
       "\n",
       "    .dataframe tbody tr th {\n",
       "        vertical-align: top;\n",
       "    }\n",
       "\n",
       "    .dataframe thead tr th {\n",
       "        text-align: left;\n",
       "    }\n",
       "\n",
       "    .dataframe thead tr:last-of-type th {\n",
       "        text-align: right;\n",
       "    }\n",
       "</style>\n",
       "<table border=\"1\" class=\"dataframe\">\n",
       "  <thead>\n",
       "    <tr>\n",
       "      <th></th>\n",
       "      <th colspan=\"4\" halign=\"left\">math</th>\n",
       "      <th colspan=\"4\" halign=\"left\">chinese</th>\n",
       "      <th colspan=\"4\" halign=\"left\">english</th>\n",
       "    </tr>\n",
       "    <tr>\n",
       "      <th></th>\n",
       "      <th>sum</th>\n",
       "      <th>amax</th>\n",
       "      <th>amin</th>\n",
       "      <th>mean</th>\n",
       "      <th>sum</th>\n",
       "      <th>amax</th>\n",
       "      <th>amin</th>\n",
       "      <th>mean</th>\n",
       "      <th>sum</th>\n",
       "      <th>amax</th>\n",
       "      <th>amin</th>\n",
       "      <th>mean</th>\n",
       "    </tr>\n",
       "    <tr>\n",
       "      <th>sex</th>\n",
       "      <th></th>\n",
       "      <th></th>\n",
       "      <th></th>\n",
       "      <th></th>\n",
       "      <th></th>\n",
       "      <th></th>\n",
       "      <th></th>\n",
       "      <th></th>\n",
       "      <th></th>\n",
       "      <th></th>\n",
       "      <th></th>\n",
       "      <th></th>\n",
       "    </tr>\n",
       "  </thead>\n",
       "  <tbody>\n",
       "    <tr>\n",
       "      <th>boy</th>\n",
       "      <td>284.0</td>\n",
       "      <td>87.0</td>\n",
       "      <td>57.0</td>\n",
       "      <td>71.0</td>\n",
       "      <td>207.0</td>\n",
       "      <td>76.0</td>\n",
       "      <td>0.0</td>\n",
       "      <td>51.75</td>\n",
       "      <td>248.0</td>\n",
       "      <td>90.0</td>\n",
       "      <td>0.0</td>\n",
       "      <td>62.0</td>\n",
       "    </tr>\n",
       "    <tr>\n",
       "      <th>girl</th>\n",
       "      <td>90.0</td>\n",
       "      <td>90.0</td>\n",
       "      <td>0.0</td>\n",
       "      <td>45.0</td>\n",
       "      <td>135.0</td>\n",
       "      <td>70.0</td>\n",
       "      <td>65.0</td>\n",
       "      <td>67.50</td>\n",
       "      <td>155.0</td>\n",
       "      <td>80.0</td>\n",
       "      <td>75.0</td>\n",
       "      <td>77.5</td>\n",
       "    </tr>\n",
       "  </tbody>\n",
       "</table>\n",
       "</div>"
      ],
      "text/plain": [
       "       math                   chinese                    english              \\\n",
       "        sum  amax  amin  mean     sum  amax  amin   mean     sum  amax  amin   \n",
       "sex                                                                            \n",
       "boy   284.0  87.0  57.0  71.0   207.0  76.0   0.0  51.75   248.0  90.0   0.0   \n",
       "girl   90.0  90.0   0.0  45.0   135.0  70.0  65.0  67.50   155.0  80.0  75.0   \n",
       "\n",
       "            \n",
       "      mean  \n",
       "sex         \n",
       "boy   62.0  \n",
       "girl  77.5  "
      ]
     },
     "execution_count": 166,
     "metadata": {},
     "output_type": "execute_result"
    }
   ],
   "source": [
    "# 分组操作 按照sex进行分组\n",
    "sex = csv.groupby(by='sex')[['math','chinese','english']]\n",
    "\n",
    "# 计算各个分组中的统计数据\n",
    "sex.agg([np.sum,np.max,np.min,np.mean])"
   ]
  },
  {
   "cell_type": "code",
   "execution_count": 169,
   "metadata": {},
   "outputs": [
    {
     "data": {
      "text/html": [
       "<div>\n",
       "<style scoped>\n",
       "    .dataframe tbody tr th:only-of-type {\n",
       "        vertical-align: middle;\n",
       "    }\n",
       "\n",
       "    .dataframe tbody tr th {\n",
       "        vertical-align: top;\n",
       "    }\n",
       "\n",
       "    .dataframe thead tr th {\n",
       "        text-align: left;\n",
       "    }\n",
       "\n",
       "    .dataframe thead tr:last-of-type th {\n",
       "        text-align: right;\n",
       "    }\n",
       "</style>\n",
       "<table border=\"1\" class=\"dataframe\">\n",
       "  <thead>\n",
       "    <tr>\n",
       "      <th></th>\n",
       "      <th colspan=\"3\" halign=\"left\">sum</th>\n",
       "      <th colspan=\"3\" halign=\"left\">max</th>\n",
       "      <th colspan=\"3\" halign=\"left\">min</th>\n",
       "      <th colspan=\"3\" halign=\"left\">mean</th>\n",
       "    </tr>\n",
       "    <tr>\n",
       "      <th></th>\n",
       "      <th>chinese</th>\n",
       "      <th>english</th>\n",
       "      <th>math</th>\n",
       "      <th>chinese</th>\n",
       "      <th>english</th>\n",
       "      <th>math</th>\n",
       "      <th>chinese</th>\n",
       "      <th>english</th>\n",
       "      <th>math</th>\n",
       "      <th>chinese</th>\n",
       "      <th>english</th>\n",
       "      <th>math</th>\n",
       "    </tr>\n",
       "    <tr>\n",
       "      <th>sex</th>\n",
       "      <th></th>\n",
       "      <th></th>\n",
       "      <th></th>\n",
       "      <th></th>\n",
       "      <th></th>\n",
       "      <th></th>\n",
       "      <th></th>\n",
       "      <th></th>\n",
       "      <th></th>\n",
       "      <th></th>\n",
       "      <th></th>\n",
       "      <th></th>\n",
       "    </tr>\n",
       "  </thead>\n",
       "  <tbody>\n",
       "    <tr>\n",
       "      <th>boy</th>\n",
       "      <td>207.0</td>\n",
       "      <td>248.0</td>\n",
       "      <td>284.0</td>\n",
       "      <td>76.0</td>\n",
       "      <td>90.0</td>\n",
       "      <td>87.0</td>\n",
       "      <td>0.0</td>\n",
       "      <td>0.0</td>\n",
       "      <td>57.0</td>\n",
       "      <td>51.75</td>\n",
       "      <td>62.0</td>\n",
       "      <td>71.0</td>\n",
       "    </tr>\n",
       "    <tr>\n",
       "      <th>girl</th>\n",
       "      <td>135.0</td>\n",
       "      <td>155.0</td>\n",
       "      <td>90.0</td>\n",
       "      <td>70.0</td>\n",
       "      <td>80.0</td>\n",
       "      <td>90.0</td>\n",
       "      <td>65.0</td>\n",
       "      <td>75.0</td>\n",
       "      <td>0.0</td>\n",
       "      <td>67.50</td>\n",
       "      <td>77.5</td>\n",
       "      <td>45.0</td>\n",
       "    </tr>\n",
       "  </tbody>\n",
       "</table>\n",
       "</div>"
      ],
      "text/plain": [
       "         sum                    max                   min                \\\n",
       "     chinese english   math chinese english  math chinese english  math   \n",
       "sex                                                                       \n",
       "boy    207.0   248.0  284.0    76.0    90.0  87.0     0.0     0.0  57.0   \n",
       "girl   135.0   155.0   90.0    70.0    80.0  90.0    65.0    75.0   0.0   \n",
       "\n",
       "        mean                \n",
       "     chinese english  math  \n",
       "sex                         \n",
       "boy    51.75    62.0  71.0  \n",
       "girl   67.50    77.5  45.0  "
      ]
     },
     "execution_count": 169,
     "metadata": {},
     "output_type": "execute_result"
    }
   ],
   "source": [
    "# index指向谁为基准进行分组\n",
    "# values指向哪些列\n",
    "# aggfunc调用统计函数\n",
    "math_sex = csv.pivot_table(values=['math','chinese','english'],index=['sex'],aggfunc=['sum','max','min','mean'])\n",
    "math_sex"
   ]
  },
  {
   "cell_type": "markdown",
   "metadata": {},
   "source": [
    "## 4、排序操作"
   ]
  },
  {
   "cell_type": "code",
   "execution_count": 170,
   "metadata": {
    "collapsed": true
   },
   "outputs": [
    {
     "name": "stdout",
     "output_type": "stream",
     "text": [
      "  name   sex  math  chinese  english    sum  mean   max   min\n",
      "1    b  girl  90.0     65.0     75.0  230.0  77.0  90.0  65.0\n",
      "2    c   boy  87.0     76.0      0.0  163.0  55.0  87.0   0.0\n",
      "0    a   boy  80.0     76.0     70.0  226.0  76.0  80.0  70.0\n",
      "5    f   boy  60.0     55.0     88.0  203.0  68.0  88.0  55.0\n",
      "4    e   boy  57.0      0.0     90.0  147.0  49.0  90.0   0.0\n",
      "3    d  girl   0.0     70.0     80.0  150.0  50.0  80.0   0.0\n",
      "  name   sex  math  chinese  english    sum  mean   max   min\n",
      "1    b  girl  90.0     65.0     75.0  230.0  77.0  90.0  65.0\n",
      "2    c   boy  87.0     76.0      0.0  163.0  55.0  87.0   0.0\n",
      "0    a   boy  80.0     76.0     70.0  226.0  76.0  80.0  70.0\n",
      "5    f   boy  60.0     55.0     88.0  203.0  68.0  88.0  55.0\n",
      "4    e   boy  57.0      0.0     90.0  147.0  49.0  90.0   0.0\n",
      "3    d  girl   0.0     70.0     80.0  150.0  50.0  80.0   0.0\n",
      "  name   sex  math  chinese  english    sum  mean   max   min\n",
      "1    b  girl  90.0     65.0     75.0  230.0  77.0  90.0  65.0\n",
      "2    c   boy  87.0     76.0      0.0  163.0  55.0  87.0   0.0\n",
      "0    a   boy  80.0     76.0     70.0  226.0  76.0  80.0  70.0\n",
      "5    f   boy  60.0     55.0     88.0  203.0  68.0  88.0  55.0\n",
      "4    e   boy  57.0      0.0     90.0  147.0  49.0  90.0   0.0\n",
      "3    d  girl   0.0     70.0     80.0  150.0  50.0  80.0   0.0\n"
     ]
    }
   ],
   "source": [
    "# 按值排序\n",
    "# 单列排序 ascending 为布尔值，True为升序 False为倒序\n",
    "print(csv.sort_values(['math'],ascending=False))\n",
    "\n",
    "# 多列排序\n",
    "print(csv.sort_values(['math','english'],ascending=False))\n",
    "\n",
    "# 在原有csv上进行排序\n",
    "csv.sort_values(['math'],ascending=False,inplace=True)\n",
    "print(csv)"
   ]
  },
  {
   "cell_type": "markdown",
   "metadata": {},
   "source": [
    "### 4.1、重置索引"
   ]
  },
  {
   "cell_type": "code",
   "execution_count": 191,
   "metadata": {
    "collapsed": true
   },
   "outputs": [
    {
     "name": "stdout",
     "output_type": "stream",
     "text": [
      "  name   sex  math  chinese  english    sum  mean   max   min\n",
      "0    a   boy  80.0     76.0     70.0  226.0  76.0  80.0  70.0\n",
      "1    b  girl  90.0     65.0     75.0  230.0  77.0  90.0  65.0\n",
      "2    c   boy  87.0     76.0      0.0  163.0  55.0  87.0   0.0\n",
      "3    d  girl   0.0     70.0     80.0  150.0  50.0  80.0   0.0\n",
      "4    e   boy  57.0      0.0     90.0  147.0  49.0  90.0   0.0\n",
      "5    f   boy  60.0     55.0     88.0  203.0  68.0  88.0  55.0\n",
      "  name   sex  math  chinese  english    sum  mean   max   min\n",
      "1    b  girl  90.0     65.0     75.0  230.0  77.0  90.0  65.0\n",
      "2    c   boy  87.0     76.0      0.0  163.0  55.0  87.0   0.0\n",
      "0    a   boy  80.0     76.0     70.0  226.0  76.0  80.0  70.0\n",
      "5    f   boy  60.0     55.0     88.0  203.0  68.0  88.0  55.0\n",
      "4    e   boy  57.0      0.0     90.0  147.0  49.0  90.0   0.0\n",
      "3    d  girl   0.0     70.0     80.0  150.0  50.0  80.0   0.0\n"
     ]
    }
   ],
   "source": [
    "csv1 = csv.reindex(index=range(6))\n",
    "print(csv1)\n",
    "print(csv)"
   ]
  },
  {
   "cell_type": "markdown",
   "metadata": {},
   "source": [
    "## 5、自定义函数"
   ]
  },
  {
   "cell_type": "code",
   "execution_count": 218,
   "metadata": {},
   "outputs": [],
   "source": [
    "def print_name(row):\n",
    "    print(row['name'],'--',row['math'])\n",
    "    print('------------------')\n",
    "    \n",
    "def print_info(row):\n",
    "    print(row)\n",
    "    print('----------------------')"
   ]
  },
  {
   "cell_type": "code",
   "execution_count": 226,
   "metadata": {
    "collapsed": true
   },
   "outputs": [
    {
     "name": "stdout",
     "output_type": "stream",
     "text": [
      "b -- 90.0\n",
      "------------------\n",
      "c -- 87.0\n",
      "------------------\n",
      "a -- 80.0\n",
      "------------------\n",
      "f -- 60.0\n",
      "------------------\n",
      "e -- 57.0\n",
      "------------------\n",
      "d -- 0.0\n",
      "------------------\n"
     ]
    },
    {
     "data": {
      "text/plain": [
       "1    None\n",
       "2    None\n",
       "0    None\n",
       "5    None\n",
       "4    None\n",
       "3    None\n",
       "dtype: object"
      ]
     },
     "execution_count": 226,
     "metadata": {},
     "output_type": "execute_result"
    }
   ],
   "source": [
    "# 横向 从上往下读一行一行读\n",
    "csv.apply(print_name,axis=1)"
   ]
  },
  {
   "cell_type": "code",
   "execution_count": 225,
   "metadata": {
    "collapsed": true
   },
   "outputs": [
    {
     "name": "stdout",
     "output_type": "stream",
     "text": [
      "1    b\n",
      "2    c\n",
      "0    a\n",
      "5    f\n",
      "4    e\n",
      "3    d\n",
      "Name: name, dtype: object\n",
      "----------------------\n",
      "1    90\n",
      "2    87\n",
      "0    80\n",
      "5    60\n",
      "4    57\n",
      "3     0\n",
      "Name: math, dtype: object\n",
      "----------------------\n"
     ]
    },
    {
     "data": {
      "text/plain": [
       "name    None\n",
       "math    None\n",
       "dtype: object"
      ]
     },
     "execution_count": 225,
     "metadata": {},
     "output_type": "execute_result"
    }
   ],
   "source": [
    "# 竖向 从左往右一列一列读\n",
    "csv[['name','math']].apply(print_info)"
   ]
  }
 ],
 "metadata": {
  "kernelspec": {
   "display_name": "Python 3",
   "language": "python",
   "name": "python3"
  },
  "language_info": {
   "codemirror_mode": {
    "name": "ipython",
    "version": 3
   },
   "file_extension": ".py",
   "mimetype": "text/x-python",
   "name": "python",
   "nbconvert_exporter": "python",
   "pygments_lexer": "ipython3",
   "version": "3.6.5"
  }
 },
 "nbformat": 4,
 "nbformat_minor": 2
}
