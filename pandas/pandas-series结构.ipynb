{
 "cells": [
  {
   "cell_type": "markdown",
   "metadata": {},
   "source": [
    "# 一、Series结构\n",
    "**类似于一维数组对象，它由一组数据(各种numpy数据类型)以及一组与之相关的数据标签(即索引)组成**"
   ]
  },
  {
   "cell_type": "code",
   "execution_count": 86,
   "metadata": {},
   "outputs": [],
   "source": [
    "import pandas as pd\n",
    "import numpy as np"
   ]
  },
  {
   "cell_type": "markdown",
   "metadata": {},
   "source": [
    "## 1、创建"
   ]
  },
  {
   "cell_type": "code",
   "execution_count": 4,
   "metadata": {
    "collapsed": true
   },
   "outputs": [
    {
     "name": "stdout",
     "output_type": "stream",
     "text": [
      "0    a\n",
      "1    1\n",
      "2    b\n",
      "3    2\n",
      "dtype: object\n",
      "['a' 1 'b' 2]\n",
      "RangeIndex(start=0, stop=4, step=1)\n"
     ]
    }
   ],
   "source": [
    "# 简单series 由列表进行创建\n",
    "s1 = pd.Series(['a',1,'b',2])\n",
    "print(s1)\n",
    "\n",
    "# 单独打印值\n",
    "print(s1.values)\n",
    "\n",
    "# 单独打印索引\n",
    "print(s1.index)"
   ]
  },
  {
   "cell_type": "code",
   "execution_count": 8,
   "metadata": {
    "collapsed": true
   },
   "outputs": [
    {
     "name": "stdout",
     "output_type": "stream",
     "text": [
      "a    小明\n",
      "b    小红\n",
      "c    小华\n",
      "d    小贝\n",
      "dtype: object\n",
      "True\n"
     ]
    }
   ],
   "source": [
    "# 指定索引\n",
    "s2 = pd.Series(['小明','小红','小华','小贝'],index=['a','b','c','d'])\n",
    "print(s2)\n",
    "\n",
    "# 判断索引是否存在\n",
    "print('a' in s2)"
   ]
  },
  {
   "cell_type": "code",
   "execution_count": 13,
   "metadata": {
    "collapsed": true
   },
   "outputs": [
    {
     "name": "stdout",
     "output_type": "stream",
     "text": [
      "name    xiaobei\n",
      "sex         man\n",
      "dtype: object\n",
      "name    [a, b]\n",
      "sex     [w, m]\n",
      "dtype: object\n",
      "name     xiaobei\n",
      "sex          man\n",
      "extra        NaN\n",
      "dtype: object\n"
     ]
    }
   ],
   "source": [
    "# 字典创建\n",
    "s3 = pd.Series({'name':'xiaobei','sex':'man'})\n",
    "print(s3)\n",
    "\n",
    "s4 = pd.Series({'name':['a','b'],'sex':['w','m']})\n",
    "print(s4)\n",
    "\n",
    "s5 = pd.Series({'name':'xiaobei','sex':'man'},index=['name','sex','extra'])\n",
    "print(s5)"
   ]
  },
  {
   "cell_type": "markdown",
   "metadata": {},
   "source": [
    "## 2、索引操作"
   ]
  },
  {
   "cell_type": "code",
   "execution_count": 57,
   "metadata": {
    "collapsed": true
   },
   "outputs": [
    {
     "name": "stdout",
     "output_type": "stream",
     "text": [
      "a    xiaobei\n",
      "b          1\n",
      "c          b\n",
      "d          2\n",
      "dtype: object\n",
      "2    3\n",
      "3    4\n",
      "dtype: int64\n"
     ]
    }
   ],
   "source": [
    "s1 = pd.Series(['a',1,'b',2])\n",
    "# print(s1)\n",
    "\n",
    "# 索引值\n",
    "# print(s1[0])\n",
    "\n",
    "# 切片操作\n",
    "# print(s1[0:3])\n",
    "\n",
    "# 修改索引值\n",
    "s1.index = ['a','b','c','d']\n",
    "# print(s1)\n",
    "\n",
    "# 重新索引 => 创建一个适应新索引的新对象\n",
    "s2 = s1.reindex(['a','b','c'])\n",
    "# print(s2)\n",
    "\n",
    "# 删除某索引\n",
    "# print(s1.drop('c'))\n",
    "\n",
    "# 打印索引a和d的值\n",
    "# print(s1[['a','d']])\n",
    "\n",
    "# 赋值\n",
    "s1['a'] = 'xiaobei'\n",
    "print(s1)\n",
    "\n",
    "# 布尔索引\n",
    "s3 = pd.Series([1,2,3,4])\n",
    "print(s3[s3>2])"
   ]
  },
  {
   "cell_type": "markdown",
   "metadata": {},
   "source": [
    "## 3、数学运算"
   ]
  },
  {
   "cell_type": "code",
   "execution_count": 66,
   "metadata": {
    "collapsed": true
   },
   "outputs": [
    {
     "name": "stdout",
     "output_type": "stream",
     "text": [
      "a    2.0\n",
      "b    4.0\n",
      "c    6.0\n",
      "d    8.0\n",
      "e    NaN\n",
      "dtype: float64\n",
      "a    2.0\n",
      "b    4.0\n",
      "c    6.0\n",
      "d    8.0\n",
      "e    5.0\n",
      "dtype: float64\n",
      "a    0.0\n",
      "b    0.0\n",
      "c    0.0\n",
      "d    0.0\n",
      "e   -5.0\n",
      "dtype: float64\n",
      "a     1.0\n",
      "b     4.0\n",
      "c     9.0\n",
      "d    16.0\n",
      "e     0.0\n",
      "dtype: float64\n",
      "a    1.0\n",
      "b    1.0\n",
      "c    1.0\n",
      "d    1.0\n",
      "e    0.0\n",
      "dtype: float64\n"
     ]
    }
   ],
   "source": [
    "s1 = pd.Series([1,2,3,4],index=['a','b','c','d'])\n",
    "s2 = pd.Series([1,2,3,4,5],index=['a','b','c','d','e'])\n",
    "\n",
    "# 相加 => 相同索引值的元素相加，多余地设置为NaN\n",
    "print(s1+s2)\n",
    "\n",
    "# 相加 => 相同索引值的元素相加，多余的默认值设置为0\n",
    "tmp = s1.add(s2,fill_value=0)\n",
    "print(tmp)\n",
    "\n",
    "# 相减\n",
    "tmp = s1.sub(s2,fill_value=0)\n",
    "print(tmp)\n",
    "\n",
    "# 相乘\n",
    "tmp = s1.mul(s2,fill_value=0)\n",
    "print(tmp)\n",
    "\n",
    "# 相除\n",
    "tmp = s1.div(s2,fill_value=0)\n",
    "print(tmp)"
   ]
  },
  {
   "cell_type": "markdown",
   "metadata": {},
   "source": [
    "## 4、排序"
   ]
  },
  {
   "cell_type": "code",
   "execution_count": 73,
   "metadata": {
    "collapsed": true
   },
   "outputs": [
    {
     "name": "stdout",
     "output_type": "stream",
     "text": [
      "d    1\n",
      "a    3\n",
      "b    2\n",
      "c    4\n",
      "dtype: int64\n",
      "d    1\n",
      "b    2\n",
      "a    3\n",
      "c    4\n",
      "dtype: int64\n",
      "a    3\n",
      "b    2\n",
      "c    4\n",
      "d    1\n",
      "dtype: int64\n"
     ]
    }
   ],
   "source": [
    "s1 = pd.Series([1,3,2,4],index=['d','a','b','c'])\n",
    "print(s1)\n",
    "\n",
    "# 值排序\n",
    "tmp = s1.sort_values()\n",
    "print(tmp)\n",
    "\n",
    "# 索引排序\n",
    "tmp = s1.sort_index()\n",
    "print(tmp)"
   ]
  },
  {
   "cell_type": "markdown",
   "metadata": {},
   "source": [
    "## 5、统计函数"
   ]
  },
  {
   "cell_type": "code",
   "execution_count": 83,
   "metadata": {
    "collapsed": true
   },
   "outputs": [
    {
     "name": "stdout",
     "output_type": "stream",
     "text": [
      "10\n",
      "1\n",
      "4\n",
      "2.5\n",
      "2.5\n",
      "1.2909944487358056\n",
      "count    4.000000\n",
      "mean     2.500000\n",
      "std      1.290994\n",
      "min      1.000000\n",
      "25%      1.750000\n",
      "50%      2.500000\n",
      "75%      3.250000\n",
      "max      4.000000\n",
      "dtype: float64\n",
      "4\n"
     ]
    }
   ],
   "source": [
    "s1 = pd.Series([1,2,3,4],index=['a','b','c','d'])\n",
    "\n",
    "# 求和\n",
    "tmp = s1.sum()\n",
    "print(tmp)\n",
    "\n",
    "# 最小值\n",
    "tmp = s1.min()\n",
    "print(tmp)\n",
    "\n",
    "# 最大值\n",
    "tmp = s1.max()\n",
    "print(tmp)\n",
    "\n",
    "# 平均值\n",
    "tmp = s1.mean()\n",
    "print(tmp)\n",
    "\n",
    "# 中位数\n",
    "tmp = s1.median()\n",
    "print(tmp)\n",
    "\n",
    "# 标准差\n",
    "tmp = s1.std()\n",
    "print(tmp)\n",
    "\n",
    "# 统计描述\n",
    "tmp = s1.describe()\n",
    "print(tmp)\n",
    "\n",
    "# 非NA值的数量\n",
    "tmp = s1.count()\n",
    "print(tmp)\n"
   ]
  },
  {
   "cell_type": "markdown",
   "metadata": {},
   "source": [
    "## 6、唯一值和值计数"
   ]
  },
  {
   "cell_type": "code",
   "execution_count": 85,
   "metadata": {
    "collapsed": true
   },
   "outputs": [
    {
     "name": "stdout",
     "output_type": "stream",
     "text": [
      "['h' 'a' 'g' 'f' 'c' 'e' 'b']\n",
      "a    3\n",
      "b    2\n",
      "f    1\n",
      "e    1\n",
      "c    1\n",
      "h    1\n",
      "g    1\n",
      "dtype: int64\n"
     ]
    }
   ],
   "source": [
    "s1 = pd.Series(['h','a','g','f','c','a','e','a','b','b'])\n",
    "# 去重\n",
    "tmp = s1.unique()\n",
    "print(tmp)\n",
    "\n",
    "# 值频率\n",
    "tmp =  s1.value_counts()\n",
    "print(tmp)"
   ]
  },
  {
   "cell_type": "markdown",
   "metadata": {},
   "source": [
    "## 7、处理缺失数据\n",
    "**浮点值NaN表示浮点和非浮点数组中的缺失数据**"
   ]
  },
  {
   "cell_type": "code",
   "execution_count": null,
   "metadata": {},
   "outputs": [],
   "source": [
    "s1 = pd.Series([1,2,np.nan,4,5])\n",
    "\n",
    "# 替换NaN的值\n",
    "print(s1.fillna(1))\n",
    "\n",
    "# 判断是否为null\n",
    "print(s1.isnull())\n",
    "\n",
    "# 判断不是null\n",
    "print(s1.notnull())\n",
    "\n",
    "# 删除值为NaN\n",
    "s1.dropna()"
   ]
  },
  {
   "cell_type": "markdown",
   "metadata": {},
   "source": [
    "## 8、层级化索引"
   ]
  },
  {
   "cell_type": "code",
   "execution_count": 127,
   "metadata": {},
   "outputs": [
    {
     "name": "stdout",
     "output_type": "stream",
     "text": [
      "a  1    7\n",
      "   2    4\n",
      "   3    6\n",
      "b  1    9\n",
      "   2    8\n",
      "   3    9\n",
      "c  1    9\n",
      "   2    4\n",
      "d  1    8\n",
      "   2    0\n",
      "dtype: int32\n",
      "     1    2    3\n",
      "a  7.0  4.0  6.0\n",
      "b  9.0  8.0  9.0\n",
      "c  9.0  4.0  NaN\n",
      "d  8.0  0.0  NaN\n",
      "a    17.0\n",
      "b    26.0\n",
      "c    13.0\n",
      "d     8.0\n",
      "dtype: float64\n"
     ]
    }
   ],
   "source": [
    "s1 = pd.Series(np.random.randint(10,size=10),index=[['a','a','a','b','b','b','c','c','d','d'],[1,2,3,1,2,3,1,2,1,2]])\n",
    "print(s1)\n",
    "\n",
    "# 获取第一级索引为a下的，索引值为1的元素\n",
    "# print(s1['a',1])\n",
    "\n",
    "# 获取第一级索引为a下的，索引值为2和3之间的元素\n",
    "# print(s1['a'][1:3])\n",
    "\n",
    "# 统计一级索引的总和\n",
    "# 把series转换为dataframe\n",
    "tmp = s1.unstack()\n",
    "print(tmp)\n",
    "print(tmp.sum(axis=1))"
   ]
  }
 ],
 "metadata": {
  "kernelspec": {
   "display_name": "Python 3",
   "language": "python",
   "name": "python3"
  },
  "language_info": {
   "codemirror_mode": {
    "name": "ipython",
    "version": 3
   },
   "file_extension": ".py",
   "mimetype": "text/x-python",
   "name": "python",
   "nbconvert_exporter": "python",
   "pygments_lexer": "ipython3",
   "version": "3.6.5"
  }
 },
 "nbformat": 4,
 "nbformat_minor": 2
}
