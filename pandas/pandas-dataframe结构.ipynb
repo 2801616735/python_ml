{
 "cells": [
  {
   "cell_type": "markdown",
   "metadata": {},
   "source": [
    "# 一、DataFrame结构\n",
    "**类似表格型数据结构，它含有一组有序的列，每列可以是不同的值类型。其既有行索引也有列索引**"
   ]
  },
  {
   "cell_type": "code",
   "execution_count": 1,
   "metadata": {},
   "outputs": [],
   "source": [
    "import pandas as pd"
   ]
  },
  {
   "cell_type": "markdown",
   "metadata": {},
   "source": [
    "## 1、创建"
   ]
  },
  {
   "cell_type": "code",
   "execution_count": 4,
   "metadata": {
    "collapsed": true
   },
   "outputs": [
    {
     "name": "stdout",
     "output_type": "stream",
     "text": [
      "   a  b  c\n",
      "0  1  2  3\n",
      "1  2  3  4\n",
      "2  3  4  5\n",
      "    a  b  c\n",
      "ai  1  2  3\n",
      "bi  2  3  4\n",
      "ci  3  4  5\n"
     ]
    }
   ],
   "source": [
    "# 列表创建\n",
    "p1 = pd.DataFrame([[1,2,3],[2,3,4],[3,4,5]],columns=['a','b','c'])\n",
    "print(p1)\n",
    "\n",
    "p2 = pd.DataFrame([[1,2,3],[2,3,4],[3,4,5]],columns=['a','b','c'],index=['ai','bi','ci'])\n",
    "print(p2)"
   ]
  },
  {
   "cell_type": "code",
   "execution_count": 15,
   "metadata": {
    "collapsed": true
   },
   "outputs": [
    {
     "name": "stdout",
     "output_type": "stream",
     "text": [
      "  name  score\n",
      "a    a     90\n",
      "b    b     80\n",
      "c    c     85\n",
      "d    d     85\n",
      "   a   b\n",
      "a  a  90\n",
      "b  b  80\n",
      "c  c  85\n",
      "d  d  85\n",
      "[['a' 90]\n",
      " ['b' 80]\n",
      " ['c' 85]\n",
      " ['d' 85]]\n",
      "Index(['a', 'b'], dtype='object')\n"
     ]
    }
   ],
   "source": [
    "# 字典创建\n",
    "p3 = pd.DataFrame({'name':['a','b','c','d'],'score':[90,80,85,85]},index=['a','b','c','d'])\n",
    "print(p3)\n",
    "\n",
    "# 修改列索引\n",
    "p3.columns = ['a','b']\n",
    "print(p3)\n",
    "\n",
    "# 打印值\n",
    "print(p3.values)\n",
    "\n",
    "# 打印列索引\n",
    "print(p3.columns)"
   ]
  },
  {
   "cell_type": "markdown",
   "metadata": {},
   "source": [
    "## 2、索引操作"
   ]
  },
  {
   "cell_type": "code",
   "execution_count": 30,
   "metadata": {
    "scrolled": true
   },
   "outputs": [
    {
     "name": "stdout",
     "output_type": "stream",
     "text": [
      "a    a\n",
      "d    d\n",
      "Name: name, dtype: object\n"
     ]
    }
   ],
   "source": [
    "p4 = pd.DataFrame({'name':['a','b','c','d'],'score':[90,80,85,85]},index=['a','b','c','d'])\n",
    "# print(p4)\n",
    "\n",
    "# 打印name列\n",
    "# print(p4['name'])\n",
    "\n",
    "# 打印name列，索引为a的元素\n",
    "# print(p4['name']['a'])\n",
    "\n",
    "# 打印name列，索引为a到c的元素\n",
    "# print(p4['name']['a':'c'])\n",
    "\n",
    "# 打印name列，索引为a、d的元素\n",
    "print(p4['name'][['a','d']])\n",
    "\n",
    "# 删除 a和c索引的值\n",
    "# print(p4.drop(['a','c']))"
   ]
  }
 ],
 "metadata": {
  "kernelspec": {
   "display_name": "Python 3",
   "language": "python",
   "name": "python3"
  },
  "language_info": {
   "codemirror_mode": {
    "name": "ipython",
    "version": 3
   },
   "file_extension": ".py",
   "mimetype": "text/x-python",
   "name": "python",
   "nbconvert_exporter": "python",
   "pygments_lexer": "ipython3",
   "version": "3.6.5"
  }
 },
 "nbformat": 4,
 "nbformat_minor": 2
}
