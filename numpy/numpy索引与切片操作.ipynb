{
 "cells": [
  {
   "cell_type": "markdown",
   "metadata": {},
   "source": [
    "# numpy索引与切片操作"
   ]
  },
  {
   "cell_type": "code",
   "execution_count": 1,
   "metadata": {},
   "outputs": [],
   "source": [
    "import numpy as np"
   ]
  },
  {
   "cell_type": "code",
   "execution_count": 8,
   "metadata": {
    "collapsed": true
   },
   "outputs": [
    {
     "name": "stdout",
     "output_type": "stream",
     "text": [
      "[5 8 3 2 1 9 5 4 2 2]\n",
      "[[8 9 6]\n",
      " [6 7 8]\n",
      " [7 4 7]]\n",
      "[[[4 2 2]\n",
      "  [3 7 7]\n",
      "  [8 5 8]]\n",
      "\n",
      " [[5 1 1]\n",
      "  [2 2 8]\n",
      "  [3 3 1]]\n",
      "\n",
      " [[1 8 3]\n",
      "  [8 6 9]\n",
      "  [7 1 7]]]\n"
     ]
    }
   ],
   "source": [
    "# 创建一维数组\n",
    "n1 = np.random.randint(1,10,(10))\n",
    "\n",
    "# 创建二维数组\n",
    "n2 = np.random.randint(1,10,(3,3))\n",
    "\n",
    "# 创建三维数组\n",
    "n3 = np.random.randint(1,10,(3,3,3))\n",
    "print(n1)\n",
    "print(n2)\n",
    "print(n3)"
   ]
  },
  {
   "cell_type": "markdown",
   "metadata": {},
   "source": [
    "## 1、索引操作\n",
    "**索引值从0开始**"
   ]
  },
  {
   "cell_type": "code",
   "execution_count": 17,
   "metadata": {
    "collapsed": true
   },
   "outputs": [
    {
     "name": "stdout",
     "output_type": "stream",
     "text": [
      "3\n",
      "4\n",
      "2\n",
      "等价写法\n",
      "3\n",
      "4\n",
      "2\n"
     ]
    }
   ],
   "source": [
    "#指定索引值\n",
    "\n",
    "# 一维数组n1 第三个\n",
    "print(n1[2])\n",
    "\n",
    "# 二维数组n2 第三行第二列\n",
    "print(n2[2][1])\n",
    "\n",
    "# 三维数组n3 z轴第二层的平面，第二行第二列\n",
    "print(n3[1][1][1])\n",
    "\n",
    "print(\"等价写法\")\n",
    "# 等价写法\n",
    "print(n1[2])\n",
    "print(n2[2,1])\n",
    "print(n3[1,1,1])\n",
    "\n",
    "# 理解等价写法的作用\n",
    "# 这种写法是用逗号进行隔开各个维度, 这里只谈二维以上\n",
    "# [x,y] 则指向 第x行第y列的值\n",
    "# [z,x,y] 则指向 立体第z层的这个平面的第x行第y列的值"
   ]
  },
  {
   "cell_type": "markdown",
   "metadata": {},
   "source": [
    "## 2、切片操作\n",
    "**冒号:则代表所有**"
   ]
  },
  {
   "cell_type": "code",
   "execution_count": 47,
   "metadata": {
    "collapsed": true
   },
   "outputs": [
    {
     "name": "stdout",
     "output_type": "stream",
     "text": [
      "[5 8 3 2 1 9 5 4 2 2]\n",
      "[5 8]\n",
      "[2 2 4 5 9 1 2 3 8 5]\n",
      "[[8 9 6]\n",
      " [6 7 8]\n",
      " [7 4 7]]\n",
      "[[8 9 6]\n",
      " [6 7 8]]\n",
      "[9 7 4]\n",
      "[[8 9]\n",
      " [6 7]\n",
      " [7 4]]\n"
     ]
    }
   ],
   "source": [
    "# 获取一维数组所有值\n",
    "print(n1[:])\n",
    "\n",
    "# 获取一维数组n1的第一、二个元素\n",
    "print(n1[0:2])\n",
    "\n",
    "# 翻转\n",
    "print(n1[::-1])\n",
    "\n",
    "# 获取二维数组所有值\n",
    "print(n2[:])\n",
    "\n",
    "# 获取二维数组第一、二行的所有元素\n",
    "print(n2[0:2])\n",
    "\n",
    "# 获取二维数组所有行第二列的所有元素\n",
    "print(n2[:,1])\n",
    "\n",
    "# 获取二维数组所有行第一、二列的所有元素\n",
    "print(n2[:,0:2])"
   ]
  },
  {
   "cell_type": "code",
   "execution_count": 67,
   "metadata": {
    "collapsed": true
   },
   "outputs": [
    {
     "name": "stdout",
     "output_type": "stream",
     "text": [
      "[[[4 2 2]\n",
      "  [3 7 7]\n",
      "  [8 5 8]]\n",
      "\n",
      " [[5 1 1]\n",
      "  [2 2 8]\n",
      "  [3 3 1]]\n",
      "\n",
      " [[1 8 3]\n",
      "  [8 6 9]\n",
      "  [7 1 7]]]\n",
      "[[[4 2 2]\n",
      "  [3 7 7]\n",
      "  [8 5 8]]\n",
      "\n",
      " [[5 1 1]\n",
      "  [2 2 8]\n",
      "  [3 3 1]]]\n",
      "[[[4 2 2]\n",
      "  [3 7 7]]\n",
      "\n",
      " [[5 1 1]\n",
      "  [2 2 8]]]\n",
      "[[2 7]\n",
      " [1 2]]\n"
     ]
    }
   ],
   "source": [
    "# 获取三维数组所有元素\n",
    "print(n3[:])\n",
    "\n",
    "# 获取z轴第一、二层所有元素\n",
    "print(n3[0:2])\n",
    "\n",
    "# 获取z轴第一、二层的平面的第一、二行\n",
    "print(n3[0:2,:2])\n",
    "\n",
    "# 获取z轴第一、二层的平面的第一、二行的第二列\n",
    "print(n3[0:2,:2,1])"
   ]
  },
  {
   "cell_type": "markdown",
   "metadata": {},
   "source": [
    "**-切片时，[x:y]表示左闭右开。即左边的x可以获取到，而右边只能获取比y小的值**"
   ]
  },
  {
   "cell_type": "markdown",
   "metadata": {},
   "source": [
    "## 3、引用操作"
   ]
  },
  {
   "cell_type": "code",
   "execution_count": 72,
   "metadata": {
    "collapsed": true
   },
   "outputs": [
    {
     "name": "stdout",
     "output_type": "stream",
     "text": [
      "[6 8 3 2 1 9 5 4 2 2]\n",
      "[6 8 3]\n",
      "[6 8 3 2 1 9 5 4 2 2]\n",
      "[6 8 3]\n",
      "[6 8 3 2 1 9 5 4 2 2]\n",
      "[6 8 3]\n",
      "[6 8 3 2 1 9 5 4 2 2]\n",
      "[7 8 3]\n"
     ]
    }
   ],
   "source": [
    "# 赋值操作\n",
    "nn1 = n1[:3]\n",
    "print(n1)\n",
    "print(nn1)\n",
    "\n",
    "nn1[0] = 6\n",
    "print(n1)\n",
    "print(nn1)\n",
    "\n",
    "# 根据打印的信息可以知道，n1索引值为0的值跟着nn1的值变化而变化\n",
    "# 那要解决切片导致的引用问题，可以使用copy\n",
    "\n",
    "nn2 = n1[:3].copy()\n",
    "print(n1)\n",
    "print(nn2)\n",
    "\n",
    "nn2[0] = 7\n",
    "print(n1)\n",
    "print(nn2)"
   ]
  }
 ],
 "metadata": {
  "kernelspec": {
   "display_name": "Python 3",
   "language": "python",
   "name": "python3"
  },
  "language_info": {
   "codemirror_mode": {
    "name": "ipython",
    "version": 3
   },
   "file_extension": ".py",
   "mimetype": "text/x-python",
   "name": "python",
   "nbconvert_exporter": "python",
   "pygments_lexer": "ipython3",
   "version": "3.6.5"
  }
 },
 "nbformat": 4,
 "nbformat_minor": 2
}
