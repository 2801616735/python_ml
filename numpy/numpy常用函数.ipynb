{
 "cells": [
  {
   "cell_type": "markdown",
   "metadata": {},
   "source": [
    "# numpy常用函数"
   ]
  },
  {
   "cell_type": "code",
   "execution_count": 1,
   "metadata": {},
   "outputs": [],
   "source": [
    "import numpy as np"
   ]
  },
  {
   "cell_type": "markdown",
   "metadata": {},
   "source": [
    "## 1、形状\n",
    "**reshape、ravel、T**"
   ]
  },
  {
   "cell_type": "code",
   "execution_count": 32,
   "metadata": {},
   "outputs": [
    {
     "name": "stdout",
     "output_type": "stream",
     "text": [
      "[0 1 2 3 4 5 6 7]\n",
      "[[0 1 2 3]\n",
      " [4 5 6 7]]\n",
      "[[[0 1]\n",
      "  [2 3]]\n",
      "\n",
      " [[4 5]\n",
      "  [6 7]]]\n",
      "[[ 0  1  2  3  5  6  7  8]\n",
      " [ 4  5  6  7  9 10 11 12]]\n",
      "[[ 0  1  2  3]\n",
      " [ 4  5  6  7]\n",
      " [ 5  6  7  8]\n",
      " [ 9 10 11 12]]\n",
      "[[[ 0  1  2  3]\n",
      "  [ 4  5  6  7]]\n",
      "\n",
      " [[ 5  6  7  8]\n",
      "  [ 9 10 11 12]]]\n"
     ]
    }
   ],
   "source": [
    "# reshape(size)\n",
    "# size 为 ndarray维度 (x) 为一维 \n",
    "#                     (x,y) 为二维\n",
    "#                     (x,y,z) 为三维\n",
    "\n",
    "n1 = np.arange(8)\n",
    "print(n1)\n",
    "\n",
    "# 转变为二维数组 2*4\n",
    "n2 = n1.reshape((2,4))\n",
    "print(n2)\n",
    "\n",
    "# 转变为三维数组 2*2*2\n",
    "n3 = n1.reshape((2,2,2))\n",
    "print(n3)\n",
    "\n",
    "# 拼接\n",
    "n4 = np.arange(5,13).reshape((2,4))\n",
    "# 横向\n",
    "print(np.hstack((n2,n4)))\n",
    "# 竖向\n",
    "print(np.vstack((n2,n4)))\n",
    "\n",
    "# 层叠\n",
    "print(np.stack((n2,n4)))\n"
   ]
  },
  {
   "cell_type": "code",
   "execution_count": 45,
   "metadata": {},
   "outputs": [
    {
     "name": "stdout",
     "output_type": "stream",
     "text": [
      "[array([0, 1, 2, 3]), array([4, 5, 6, 7])]\n",
      "[array([0, 1]), array([2, 3]), array([4, 5]), array([6, 7])]\n",
      "[[0 1 2 3]\n",
      " [4 5 6 7]]\n",
      "[array([[0, 1, 2, 3]]), array([[4, 5, 6, 7]])]\n"
     ]
    }
   ],
   "source": [
    "n1 = np.arange(8)\n",
    "# 横切\n",
    "print(np.hsplit(n1,2))\n",
    "print(np.hsplit(n1,4))\n",
    "\n",
    "# 竖切\n",
    "n2 = n1.reshape((2,4))\n",
    "print(n2)\n",
    "print(np.vsplit(n2,2))"
   ]
  },
  {
   "cell_type": "code",
   "execution_count": 14,
   "metadata": {},
   "outputs": [
    {
     "data": {
      "text/plain": [
       "array([0, 1, 2, 3, 4, 5, 6, 7])"
      ]
     },
     "metadata": {},
     "output_type": "display_data"
    },
    {
     "data": {
      "text/plain": [
       "array([[0, 4],\n",
       "       [1, 5],\n",
       "       [2, 6],\n",
       "       [3, 7]])"
      ]
     },
     "metadata": {},
     "output_type": "display_data"
    }
   ],
   "source": [
    "# 把多维数组拉平\n",
    "display(n2.ravel())\n",
    "\n",
    "# 横列转置\n",
    "display(n2.T)"
   ]
  },
  {
   "cell_type": "markdown",
   "metadata": {},
   "source": [
    "## 2、排序、重复"
   ]
  },
  {
   "cell_type": "code",
   "execution_count": 61,
   "metadata": {},
   "outputs": [
    {
     "name": "stdout",
     "output_type": "stream",
     "text": [
      "[0 1 2 3]\n",
      "[[0 1 2 3 0 1 2 3]\n",
      " [0 1 2 3 0 1 2 3]]\n",
      "[6 1 7 1 5]\n",
      "[1 1 5 6 7]\n",
      "[[8 2]\n",
      " [3 2]]\n",
      "[[3 2]\n",
      " [8 2]]\n",
      "[[2 8]\n",
      " [2 3]]\n"
     ]
    }
   ],
   "source": [
    "n1 = np.arange(4)\n",
    "print(n1)\n",
    "\n",
    "# 重复\n",
    "print(np.tile(n1,(2,2)))\n",
    "\n",
    "# 一维数组排序\n",
    "n2 = np.random.randint(1,10,(5))\n",
    "print(n2)\n",
    "# 排序\n",
    "print(np.sort(n2))\n",
    "\n",
    "# 二维数组排序\n",
    "n3 = np.random.randint(1,10,(2,2))\n",
    "print(n3)\n",
    "# 排序 竖向\n",
    "print(np.sort(n3,axis=0))\n",
    "# 排序 横向\n",
    "print(np.sort(n3,axis=1))"
   ]
  },
  {
   "cell_type": "markdown",
   "metadata": {},
   "source": [
    "## 2、其它"
   ]
  },
  {
   "cell_type": "code",
   "execution_count": 7,
   "metadata": {},
   "outputs": [
    {
     "data": {
      "text/plain": [
       "array([2.        , 2.03030303, 2.06060606, 2.09090909, 2.12121212,\n",
       "       2.15151515, 2.18181818, 2.21212121, 2.24242424, 2.27272727,\n",
       "       2.3030303 , 2.33333333, 2.36363636, 2.39393939, 2.42424242,\n",
       "       2.45454545, 2.48484848, 2.51515152, 2.54545455, 2.57575758,\n",
       "       2.60606061, 2.63636364, 2.66666667, 2.6969697 , 2.72727273,\n",
       "       2.75757576, 2.78787879, 2.81818182, 2.84848485, 2.87878788,\n",
       "       2.90909091, 2.93939394, 2.96969697, 3.        , 3.03030303,\n",
       "       3.06060606, 3.09090909, 3.12121212, 3.15151515, 3.18181818,\n",
       "       3.21212121, 3.24242424, 3.27272727, 3.3030303 , 3.33333333,\n",
       "       3.36363636, 3.39393939, 3.42424242, 3.45454545, 3.48484848,\n",
       "       3.51515152, 3.54545455, 3.57575758, 3.60606061, 3.63636364,\n",
       "       3.66666667, 3.6969697 , 3.72727273, 3.75757576, 3.78787879,\n",
       "       3.81818182, 3.84848485, 3.87878788, 3.90909091, 3.93939394,\n",
       "       3.96969697, 4.        , 4.03030303, 4.06060606, 4.09090909,\n",
       "       4.12121212, 4.15151515, 4.18181818, 4.21212121, 4.24242424,\n",
       "       4.27272727, 4.3030303 , 4.33333333, 4.36363636, 4.39393939,\n",
       "       4.42424242, 4.45454545, 4.48484848, 4.51515152, 4.54545455,\n",
       "       4.57575758, 4.60606061, 4.63636364, 4.66666667, 4.6969697 ,\n",
       "       4.72727273, 4.75757576, 4.78787879, 4.81818182, 4.84848485,\n",
       "       4.87878788, 4.90909091, 4.93939394, 4.96969697, 5.        ])"
      ]
     },
     "execution_count": 7,
     "metadata": {},
     "output_type": "execute_result"
    }
   ],
   "source": [
    "# 线性代数\n",
    "# 从2到5之间取100个数\n",
    "np.linspace(2,5,100)"
   ]
  }
 ],
 "metadata": {
  "kernelspec": {
   "display_name": "Python 3",
   "language": "python",
   "name": "python3"
  },
  "language_info": {
   "codemirror_mode": {
    "name": "ipython",
    "version": 3
   },
   "file_extension": ".py",
   "mimetype": "text/x-python",
   "name": "python",
   "nbconvert_exporter": "python",
   "pygments_lexer": "ipython3",
   "version": "3.6.5"
  }
 },
 "nbformat": 4,
 "nbformat_minor": 2
}
