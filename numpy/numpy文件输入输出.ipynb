{
 "cells": [
  {
   "cell_type": "markdown",
   "metadata": {},
   "source": [
    "# 一、numpy文件输入输出"
   ]
  },
  {
   "cell_type": "code",
   "execution_count": 1,
   "metadata": {},
   "outputs": [],
   "source": [
    "import numpy as np"
   ]
  },
  {
   "cell_type": "markdown",
   "metadata": {},
   "source": [
    "## 1、二进制格式保存"
   ]
  },
  {
   "cell_type": "code",
   "execution_count": 10,
   "metadata": {
    "collapsed": true
   },
   "outputs": [
    {
     "name": "stdout",
     "output_type": "stream",
     "text": [
      "[0 1 2 3 4 5 6 7 8 9]\n",
      "[0 1 2 3 4 5 6 7 8 9]\n",
      "[0 1 2 3 4 5 6 7 8 9]\n"
     ]
    }
   ],
   "source": [
    "arr = np.arange(10)\n",
    "# 将数组保存成文件，文件后缀为.npy\n",
    "np.save('arr',arr)\n",
    "\n",
    "# 载入文件\n",
    "arr = np.load('arr.npy')\n",
    "print(arr)\n",
    "\n",
    "# 将多个数组保存进文件\n",
    "np.savez('arrs',a=arr,b=arr)\n",
    "\n",
    "# 载入文件\n",
    "arrs = np.load('arrs.npz')\n",
    "print(arrs['a'])\n",
    "print(arrs['b'])"
   ]
  },
  {
   "cell_type": "markdown",
   "metadata": {},
   "source": [
    "## 2、txt文件\n",
    "* csv本质上也是txt文本文件，因此这里用txt文件为例"
   ]
  },
  {
   "cell_type": "code",
   "execution_count": 25,
   "metadata": {},
   "outputs": [
    {
     "name": "stdout",
     "output_type": "stream",
     "text": [
      "[['a' 'b' 'c']\n",
      " ['d' 'e' 'f']]\n"
     ]
    }
   ],
   "source": [
    "file_name = 'test.txt'\n",
    "# test.txt文件格式如下：\n",
    "# a,b,c\n",
    "# d,e,f\n",
    "\n",
    "# 由于loadtxt默认载入的是float，因此这里类型转为str字符\n",
    "arr = np.loadtxt(file_name,delimiter=',',dtype=str)\n",
    "print(arr)\n",
    "\n",
    "# 文件保存\n",
    "np.savetxt('new_test.txt',arr,encoding='utf-8',fmt='%s')"
   ]
  }
 ],
 "metadata": {
  "kernelspec": {
   "display_name": "Python 3",
   "language": "python",
   "name": "python3"
  },
  "language_info": {
   "codemirror_mode": {
    "name": "ipython",
    "version": 3
   },
   "file_extension": ".py",
   "mimetype": "text/x-python",
   "name": "python",
   "nbconvert_exporter": "python",
   "pygments_lexer": "ipython3",
   "version": "3.6.5"
  }
 },
 "nbformat": 4,
 "nbformat_minor": 2
}
