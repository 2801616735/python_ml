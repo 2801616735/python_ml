{
 "cells": [
  {
   "cell_type": "markdown",
   "metadata": {},
   "source": [
    "# numpy入门\n",
    "* numpy的基本结构为ndarray"
   ]
  },
  {
   "cell_type": "code",
   "execution_count": 1,
   "metadata": {},
   "outputs": [],
   "source": [
    "import numpy as np"
   ]
  },
  {
   "cell_type": "markdown",
   "metadata": {},
   "source": [
    "## 1、创建ndarray\n",
    "**元素必须都为同一类型**"
   ]
  },
  {
   "cell_type": "markdown",
   "metadata": {},
   "source": [
    "### 1.1、python列表创建"
   ]
  },
  {
   "cell_type": "code",
   "execution_count": 16,
   "metadata": {
    "collapsed": true
   },
   "outputs": [
    {
     "name": "stdout",
     "output_type": "stream",
     "text": [
      "[1 2 3 4]\n",
      "[[1 2]\n",
      " [3 4]\n",
      " [5 6]]\n"
     ]
    }
   ],
   "source": [
    "# 一维列表\n",
    "n1 = np.array([1,2,3,4])\n",
    "print(n1)\n",
    "\n",
    "# 二维列表\n",
    "n2 = np.array([[1,2],[3,4],[5,6]])\n",
    "print(n2)"
   ]
  },
  {
   "cell_type": "markdown",
   "metadata": {},
   "source": [
    "### 1.2、类python的range"
   ]
  },
  {
   "cell_type": "code",
   "execution_count": 19,
   "metadata": {},
   "outputs": [
    {
     "name": "stdout",
     "output_type": "stream",
     "text": [
      "[1 2 3 4 5 6 7 8 9]\n"
     ]
    }
   ],
   "source": [
    "n3 = np.arange(1,10,1)\n",
    "print(n3)"
   ]
  },
  {
   "cell_type": "markdown",
   "metadata": {},
   "source": [
    "### 1.3、numpy随机数rand创建"
   ]
  },
  {
   "cell_type": "code",
   "execution_count": 48,
   "metadata": {
    "collapsed": true
   },
   "outputs": [
    {
     "name": "stdout",
     "output_type": "stream",
     "text": [
      "[0.00581634 0.34869473 0.3010849  0.71116374 0.74301093 0.5845235\n",
      " 0.74038311 0.84666557 0.01927934 0.7563881 ]\n",
      "[[0.32643492 0.18538836 0.35962334]\n",
      " [0.69526837 0.22795072 0.0746945 ]\n",
      " [0.04907491 0.11368963 0.72611962]]\n",
      "[[[0.58165935 0.93712148 0.75541019]\n",
      "  [0.78098055 0.69562587 0.07660965]\n",
      "  [0.15390547 0.34432854 0.33784257]]\n",
      "\n",
      " [[0.13503733 0.56854798 0.004365  ]\n",
      "  [0.69436104 0.12537007 0.95640332]\n",
      "  [0.69544242 0.07046559 0.24190895]]\n",
      "\n",
      " [[0.71735982 0.1506691  0.01765332]\n",
      "  [0.29394892 0.70406062 0.72624761]\n",
      "  [0.9226147  0.11992261 0.62506653]]]\n"
     ]
    }
   ],
   "source": [
    "# 用法\n",
    "# rand(x1,x2,x3,x4...) 获取0到1之间的随机数\n",
    "# 创建数组维度的规律:\n",
    "# 传递n个参数，则创建n维度的数组\n",
    "\n",
    "# 创建一维数组0-1之间的数 10个 \n",
    "n4 = np.random.rand(10)\n",
    "print(n4)\n",
    "\n",
    "# 创建二维数组0-1之间的数 3*3个 \n",
    "n5 = np.random.rand(3,3)\n",
    "print(n5)\n",
    "\n",
    "# 创建三维数组0-1之间的数 3*3*3个 \n",
    "n6 = np.random.rand(3,3,3)\n",
    "print(n6)"
   ]
  },
  {
   "cell_type": "markdown",
   "metadata": {},
   "source": [
    "### 1.4、numpy随机数random"
   ]
  },
  {
   "cell_type": "code",
   "execution_count": 46,
   "metadata": {
    "collapsed": true
   },
   "outputs": [
    {
     "name": "stdout",
     "output_type": "stream",
     "text": [
      "[0.78991192 0.54374545 0.85208757]\n",
      "[[0.83488675 0.26050857]\n",
      " [0.44216496 0.91449046]]\n",
      "[[[0.92774499 0.0582584 ]\n",
      "  [0.061889   0.68864903]]\n",
      "\n",
      " [[0.70107364 0.64670368]\n",
      "  [0.13876994 0.78705911]]]\n"
     ]
    }
   ],
   "source": [
    "# 用法\n",
    "# random(size=None) 获取0到1之间的随机数\n",
    "# size 为 ndarray维度 (x) 为一维 \n",
    "#                     (x,y) 为二维\n",
    "#                     (x,y,z) 为三维\n",
    "\n",
    "# 创建一维数组0-1之间的数 3个 \n",
    "n7 = np.random.random((3))\n",
    "print(n7)\n",
    "\n",
    "# 创建二维数组0-1之间的数 2*2个 \n",
    "n8 = np.random.random((2,2))\n",
    "print(n8)\n",
    "\n",
    "# 创建三维数组0-1之间的数 2*2*2个 \n",
    "n9 = np.random.random((2,2,2))\n",
    "print(n9)"
   ]
  },
  {
   "cell_type": "markdown",
   "metadata": {},
   "source": [
    "### 1.5、numpy随机数randint"
   ]
  },
  {
   "cell_type": "code",
   "execution_count": 44,
   "metadata": {
    "collapsed": true
   },
   "outputs": [
    {
     "name": "stdout",
     "output_type": "stream",
     "text": [
      "[9 2 1]\n",
      "[[7 1]\n",
      " [3 1]]\n",
      "[[[7 3]\n",
      "  [1 6]]\n",
      "\n",
      " [[5 8]\n",
      "  [1 4]]]\n"
     ]
    }
   ],
   "source": [
    "# 用法\n",
    "# randint(low, high=None, size=None, dtype='l')\n",
    "# low 为开始整形值\n",
    "# high 为 结尾整形值\n",
    "# size 为 ndarray维度 (x) 为一维 \n",
    "#                     (x,y) 为二维\n",
    "#                     (x,y,z) 为三维\n",
    "\n",
    "# 创建一维整形数组 3个\n",
    "n10 = np.random.randint(1,10,(3))\n",
    "print(n10)\n",
    "\n",
    "# 创建二维整形数组 2*2个\n",
    "n11 = np.random.randint(1,10,(2,2))\n",
    "print(n11)\n",
    "\n",
    "# 创建三维整形数组 2*2*2个\n",
    "n12 = np.random.randint(1,10,(2,2,2))\n",
    "print(n12)"
   ]
  },
  {
   "cell_type": "code",
   "execution_count": 51,
   "metadata": {
    "collapsed": true
   },
   "outputs": [
    {
     "name": "stdout",
     "output_type": "stream",
     "text": [
      "[0.00581634 0.34869473 0.3010849  0.71116374 0.74301093 0.5845235\n",
      " 0.74038311 0.84666557 0.01927934 0.7563881 ]\n",
      "[[0.32643492 0.18538836 0.35962334]\n",
      " [0.69526837 0.22795072 0.0746945 ]\n",
      " [0.04907491 0.11368963 0.72611962]]\n",
      "[[[0.58165935 0.93712148 0.75541019]\n",
      "  [0.78098055 0.69562587 0.07660965]\n",
      "  [0.15390547 0.34432854 0.33784257]]\n",
      "\n",
      " [[0.13503733 0.56854798 0.004365  ]\n",
      "  [0.69436104 0.12537007 0.95640332]\n",
      "  [0.69544242 0.07046559 0.24190895]]\n",
      "\n",
      " [[0.71735982 0.1506691  0.01765332]\n",
      "  [0.29394892 0.70406062 0.72624761]\n",
      "  [0.9226147  0.11992261 0.62506653]]]\n"
     ]
    }
   ],
   "source": [
    "# 用法\n",
    "# randn(x1,x2,x3,x4...) 获取满足正态分布的数\n",
    "# 创建数组维度的规律:\n",
    "# 传递n个参数，则创建n维度的数组\n",
    "\n",
    "# 创建一维数组 10个 \n",
    "n13 = np.random.randn(10)\n",
    "print(n4)\n",
    "\n",
    "# 创建二维数组 3*3个 \n",
    "n14 = np.random.randn(3,3)\n",
    "print(n5)\n",
    "\n",
    "# 创建三维数组 3*3*3个 \n",
    "n15 = np.random.randn(3,3,3)\n",
    "print(n6)"
   ]
  },
  {
   "cell_type": "markdown",
   "metadata": {},
   "source": [
    "### 1.6、zeros和ones\n",
    "**zeros 则创建元素都为0的n维数组**\n",
    "\n",
    "**ones 则创建元素都为1的n维数组**"
   ]
  },
  {
   "cell_type": "code",
   "execution_count": 57,
   "metadata": {
    "collapsed": true
   },
   "outputs": [
    {
     "name": "stdout",
     "output_type": "stream",
     "text": [
      "[0. 0. 0. 0. 0. 0. 0. 0. 0. 0.]\n",
      "[1. 1.]\n"
     ]
    }
   ],
   "source": [
    "# zeros(size)\n",
    "# size 为 ndarray维度 (x) 为一维 \n",
    "#                     (x,y) 为二维\n",
    "#                     (x,y,z) 为三维\n",
    "\n",
    "no1 = np.zeros(10)\n",
    "print(no1)\n",
    "\n",
    "# ones(size)\n",
    "# size 为 ndarray维度 (x) 为一维 \n",
    "#                     (x,y) 为二维\n",
    "#                     (x,y,z) 为三维\n",
    "no2 = np.ones((2))\n",
    "print(no2)"
   ]
  },
  {
   "cell_type": "markdown",
   "metadata": {},
   "source": [
    "## 2、ndarray属性"
   ]
  },
  {
   "cell_type": "code",
   "execution_count": 59,
   "metadata": {},
   "outputs": [
    {
     "name": "stdout",
     "output_type": "stream",
     "text": [
      "float64\n",
      "1\n",
      "(2,)\n"
     ]
    }
   ],
   "source": [
    "# 打印类型\n",
    "print(no2.dtype)\n",
    "\n",
    "# 打印维度\n",
    "print(no2.ndim)\n",
    "\n",
    "# 打印维度形状\n",
    "print(no2.shape)"
   ]
  }
 ],
 "metadata": {
  "kernelspec": {
   "display_name": "Python 3",
   "language": "python",
   "name": "python3"
  },
  "language_info": {
   "codemirror_mode": {
    "name": "ipython",
    "version": 3
   },
   "file_extension": ".py",
   "mimetype": "text/x-python",
   "name": "python",
   "nbconvert_exporter": "python",
   "pygments_lexer": "ipython3",
   "version": "3.6.5"
  }
 },
 "nbformat": 4,
 "nbformat_minor": 2
}
