{
 "cells": [
  {
   "cell_type": "markdown",
   "metadata": {},
   "source": [
    "# numpy运算"
   ]
  },
  {
   "cell_type": "code",
   "execution_count": 1,
   "metadata": {},
   "outputs": [],
   "source": [
    "import numpy as np"
   ]
  },
  {
   "cell_type": "code",
   "execution_count": 13,
   "metadata": {},
   "outputs": [],
   "source": [
    "n1 = np.array([1,2,3,4])\n",
    "\n",
    "n2 = np.array([\n",
    "    [5,10,20],\n",
    "    [6,8,12],\n",
    "    [7,10,10]\n",
    "])"
   ]
  },
  {
   "cell_type": "markdown",
   "metadata": {},
   "source": [
    "## 1、布尔运算"
   ]
  },
  {
   "cell_type": "code",
   "execution_count": 7,
   "metadata": {},
   "outputs": [
    {
     "name": "stdout",
     "output_type": "stream",
     "text": [
      "[False  True False False]\n",
      "[[False  True False]\n",
      " [False False False]\n",
      " [False False  True]]\n",
      "[ True False False]\n"
     ]
    }
   ],
   "source": [
    "# 判断一维数组n1等于2的元素\n",
    "print(n1==2)\n",
    "\n",
    "# 判断二维数组n2等于10的元素\n",
    "print(n2==10)\n",
    "\n",
    "# 判断二维数组n2中，所有行的第二列等于10\n",
    "print(n2[:,1]==10)"
   ]
  },
  {
   "cell_type": "code",
   "execution_count": 14,
   "metadata": {},
   "outputs": [
    {
     "name": "stdout",
     "output_type": "stream",
     "text": [
      "[2]\n",
      "[ True False  True]\n",
      "[[ 5 10 20]\n",
      " [ 7 10 10]]\n"
     ]
    }
   ],
   "source": [
    "# 取值\n",
    "# 一维数组n1等于2的元素\n",
    "print(n1[n1==2])\n",
    "\n",
    "# 二维数组n2中，所有行的第二列等于10\n",
    "b = n2[:,1]==10\n",
    "print(b)\n",
    "\n",
    "print(n2[b])\n",
    "\n",
    "# 之所以能够获取到，是因为b是n2的引用"
   ]
  },
  {
   "cell_type": "markdown",
   "metadata": {},
   "source": [
    "### 1.1、与 或操作"
   ]
  },
  {
   "cell_type": "code",
   "execution_count": 21,
   "metadata": {},
   "outputs": [],
   "source": [
    "# 定义 5,10,15,20的一维数组\n",
    "n3 = np.arange(5,25,5)\n",
    "\n",
    "n4 = np.array([\n",
    "    [5,10,20],\n",
    "    [6,8,12],\n",
    "    [7,9,10]\n",
    "])\n",
    "\n",
    "n5 = np.array([\n",
    "    [1,2],\n",
    "    [3,4]\n",
    "])"
   ]
  },
  {
   "cell_type": "code",
   "execution_count": 25,
   "metadata": {},
   "outputs": [
    {
     "name": "stdout",
     "output_type": "stream",
     "text": [
      "[False False False False]\n",
      "[False  True False  True]\n",
      "[10 20]\n"
     ]
    }
   ],
   "source": [
    "# 与操作\n",
    "print((n3==10) & (n3==20))\n",
    "\n",
    "# 或操作\n",
    "print((n3==10) | (n3==20))\n",
    "\n",
    "# 取值\n",
    "b = ((n3==10) | (n3==20))\n",
    "print(n3[b])"
   ]
  },
  {
   "cell_type": "markdown",
   "metadata": {},
   "source": [
    "## 2、元素类型"
   ]
  },
  {
   "cell_type": "code",
   "execution_count": 27,
   "metadata": {},
   "outputs": [
    {
     "name": "stdout",
     "output_type": "stream",
     "text": [
      "int64\n",
      "[ 5. 10. 15. 20.]\n"
     ]
    }
   ],
   "source": [
    "# 打印n3的类型\n",
    "print(n3.dtype)\n",
    "\n",
    "# 所有元素类型都调整为float\n",
    "print(n3.astype('float'))"
   ]
  },
  {
   "cell_type": "markdown",
   "metadata": {},
   "source": [
    "## 3、统计函数\n",
    "**min/max/sum/**"
   ]
  },
  {
   "cell_type": "code",
   "execution_count": 40,
   "metadata": {},
   "outputs": [
    {
     "name": "stdout",
     "output_type": "stream",
     "text": [
      "50\n",
      "20\n",
      "5\n",
      "31.25\n",
      "5.5901699437494745\n",
      "12.5\n",
      "10\n",
      "[3 7]\n",
      "[4 6]\n",
      "[2 4]\n"
     ]
    }
   ],
   "source": [
    "# 一维数组\n",
    "# 求和\n",
    "print(n3.sum())\n",
    "# 最大值\n",
    "print(n3.max())\n",
    "# 最小值\n",
    "print(n3.min())\n",
    "# 方差\n",
    "print(n3.var())\n",
    "# 标准差\n",
    "print(n3.std())\n",
    "# 平均值\n",
    "print(n3.mean())\n",
    "\n",
    "# 二维数组\n",
    "# 求和 \n",
    "print(n5.sum())\n",
    "# 方向求和\n",
    "# 横向，即从上往下\n",
    "print(n5.sum(axis=1))\n",
    "# 竖向，即从左往右\n",
    "print(n5.sum(axis=0))\n",
    "\n",
    "# 其它的以此类推"
   ]
  }
 ],
 "metadata": {
  "kernelspec": {
   "display_name": "Python 3",
   "language": "python",
   "name": "python3"
  },
  "language_info": {
   "codemirror_mode": {
    "name": "ipython",
    "version": 3
   },
   "file_extension": ".py",
   "mimetype": "text/x-python",
   "name": "python",
   "nbconvert_exporter": "python",
   "pygments_lexer": "ipython3",
   "version": "3.6.5"
  }
 },
 "nbformat": 4,
 "nbformat_minor": 2
}
