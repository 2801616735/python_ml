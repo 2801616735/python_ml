{
 "cells": [
  {
   "cell_type": "code",
   "execution_count": 82,
   "metadata": {},
   "outputs": [],
   "source": [
    "import numpy as np\n",
    "import matplotlib.pyplot as plt\n",
    "from sklearn import datasets"
   ]
  },
  {
   "cell_type": "code",
   "execution_count": 120,
   "metadata": {
    "collapsed": true
   },
   "outputs": [
    {
     "data": {
      "image/png": "[encoded data removed]",
      "text/plain": [
       "<Figure size 432x288 with 1 Axes>"
      ]
     },
     "metadata": {},
     "output_type": "display_data"
    }
   ],
   "source": [
    "class LinearRegressions():\n",
    "    def __init__(self):\n",
    "        self.w = None\n",
    "    \n",
    "    def fit(self,X,y):\n",
    "#         X = np.insert(X,0,1,axis=1)\n",
    "        X_ = np.linalg.inv(X.T.dot(X))\n",
    "        self.w = X_.dot(X.T).dot(y)\n",
    "#         print(self.w)\n",
    "    \n",
    "    def predict(self,X):\n",
    "#         X = np.insert(X,0,1,axis=1)\n",
    "        y_pred = X.dot(self.w)\n",
    "        return y_pred\n",
    "        \n",
    "def mean_squared_error(y1,y2):\n",
    "    return np.mean(np.power(y1-y2,2))\n",
    "\n",
    "def main():\n",
    "    diabetes = datasets.load_diabetes()\n",
    "    X = diabetes.data[:,np.newaxis,2]\n",
    "    x_train,x_test = X[:-20],X[-20:]\n",
    "    \n",
    "    x_train = np.insert(x_train,0,1,axis=1)\n",
    "    x_test = np.insert(x_test,0,1,axis=1)\n",
    "    \n",
    "    y_train,y_test = diabetes.target[:-20],diabetes.target[-20:]\n",
    "#     print(\"==========================================\")\n",
    "#     print(y_test)\n",
    "    clf = LinearRegressions()\n",
    "    clf.fit(x_train,y_train)\n",
    "    y_pred = clf.predict(x_test)\n",
    "#     print(x_test[:,1])\n",
    "#     print(mean_squared_error(y_test,y_pred))\n",
    "    plt.scatter(x_test[:,1],y_test,c='black')\n",
    "    plt.plot(x_test[:,1],y_pred,c='blue',linewidth=3)\n",
    "    plt.show()\n",
    "\n",
    "main()"
   ]
  },
  {
   "cell_type": "code",
   "execution_count": 130,
   "metadata": {},
   "outputs": [
    {
     "name": "stdout",
     "output_type": "stream",
     "text": [
      "[[1 2]\n",
      " [1 3]\n",
      " [1 4]]\n",
      "-------------------------\n",
      "[[1 1 1]\n",
      " [2 3 4]]\n",
      "-------------------------\n",
      "[[ 3  9]\n",
      " [ 9 29]]\n",
      "-------------------------\n",
      "[[ 4.83333333 -1.5       ]\n",
      " [-1.5         0.5       ]]\n",
      "-------------------------\n",
      "[[ 1.83333333  0.33333333 -1.16666667]\n",
      " [-0.5         0.          0.5       ]]\n",
      "-------------------------\n"
     ]
    },
    {
     "data": {
      "text/plain": [
       "array([1.33333333, 0.        ])"
      ]
     },
     "execution_count": 130,
     "metadata": {},
     "output_type": "execute_result"
    }
   ],
   "source": [
    "n1 = np.array([[1,2],[1,3],[1,4]])\n",
    "y = np.array([1,2,1])\n",
    "X_ = np.linalg.inv(n1.T.dot(n1))\n",
    "print(n1)\n",
    "print('-------------------------')\n",
    "print(n1.T)\n",
    "print('-------------------------')\n",
    "print(n1.T.dot(n1))\n",
    "print('-------------------------')\n",
    "print(X_)\n",
    "print('-------------------------')\n",
    "print(X_.dot(n1.T))\n",
    "print('-------------------------')\n",
    "w = X_.dot(n1.T).dot(y)\n",
    "w"
   ]
  }
 ],
 "metadata": {
  "kernelspec": {
   "display_name": "Python 3",
   "language": "python",
   "name": "python3"
  },
  "language_info": {
   "codemirror_mode": {
    "name": "ipython",
    "version": 3
   },
   "file_extension": ".py",
   "mimetype": "text/x-python",
   "name": "python",
   "nbconvert_exporter": "python",
   "pygments_lexer": "ipython3",
   "version": "3.6.5"
  }
 },
 "nbformat": 4,
 "nbformat_minor": 2
}
