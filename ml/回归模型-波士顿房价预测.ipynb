{
 "cells": [
  {
   "cell_type": "markdown",
   "metadata": {},
   "source": [
    "# 回归模型-波士顿房价预测\n",
    "**数据集收录在scikit-learn的datasets中。共有14个，其中最后一个特征是房价信息。我们的任务就是根据前13个特征预测第14个特征的值**"
   ]
  },
  {
   "cell_type": "code",
   "execution_count": 37,
   "metadata": {},
   "outputs": [],
   "source": [
    "from sklearn import datasets\n",
    "from sklearn.cross_validation import train_test_split\n",
    "from sklearn.preprocessing import StandardScaler\n",
    "import numpy as np\n",
    "import pandas as pd\n",
    "\n",
    "%matplotlib inline\n",
    "import matplotlib.pyplot as plt\n"
   ]
  },
  {
   "cell_type": "markdown",
   "metadata": {},
   "source": [
    "## 1、加载数据集"
   ]
  },
  {
   "cell_type": "code",
   "execution_count": 5,
   "metadata": {},
   "outputs": [],
   "source": [
    "scikit_boston = datasets.load_boston()\n",
    "df = pd.DataFrame(data=np.c_[scikit_boston.data,scikit_boston.target],columns=np.append(scikit_boston.feature_names,['MEDV']))"
   ]
  },
  {
   "cell_type": "code",
   "execution_count": 39,
   "metadata": {
    "collapsed": true
   },
   "outputs": [
    {
     "name": "stdout",
     "output_type": "stream",
     "text": [
      "<class 'pandas.core.frame.DataFrame'>\n",
      "RangeIndex: 258 entries, 0 to 257\n",
      "Data columns (total 14 columns):\n",
      "CRIM       258 non-null float64\n",
      "ZN         258 non-null float64\n",
      "INDUS      258 non-null float64\n",
      "CHAS       258 non-null float64\n",
      "NOX        258 non-null float64\n",
      "RM         258 non-null float64\n",
      "AGE        258 non-null float64\n",
      "DIS        258 non-null float64\n",
      "RAD        258 non-null float64\n",
      "TAX        258 non-null float64\n",
      "PTRATIO    258 non-null float64\n",
      "B          258 non-null float64\n",
      "LSTAT      258 non-null float64\n",
      "MEDV       258 non-null float64\n",
      "dtypes: float64(14)\n",
      "memory usage: 28.3 KB\n"
     ]
    },
    {
     "data": {
      "text/html": [
       "<div>\n",
       "<style scoped>\n",
       "    .dataframe tbody tr th:only-of-type {\n",
       "        vertical-align: middle;\n",
       "    }\n",
       "\n",
       "    .dataframe tbody tr th {\n",
       "        vertical-align: top;\n",
       "    }\n",
       "\n",
       "    .dataframe thead th {\n",
       "        text-align: right;\n",
       "    }\n",
       "</style>\n",
       "<table border=\"1\" class=\"dataframe\">\n",
       "  <thead>\n",
       "    <tr style=\"text-align: right;\">\n",
       "      <th></th>\n",
       "      <th>CRIM</th>\n",
       "      <th>ZN</th>\n",
       "      <th>INDUS</th>\n",
       "      <th>CHAS</th>\n",
       "      <th>NOX</th>\n",
       "      <th>RM</th>\n",
       "      <th>AGE</th>\n",
       "      <th>DIS</th>\n",
       "      <th>RAD</th>\n",
       "      <th>TAX</th>\n",
       "      <th>PTRATIO</th>\n",
       "      <th>B</th>\n",
       "      <th>LSTAT</th>\n",
       "      <th>MEDV</th>\n",
       "    </tr>\n",
       "  </thead>\n",
       "  <tbody>\n",
       "    <tr>\n",
       "      <th>0</th>\n",
       "      <td>-0.427639</td>\n",
       "      <td>-0.532972</td>\n",
       "      <td>2.393577</td>\n",
       "      <td>-0.281954</td>\n",
       "      <td>0.497208</td>\n",
       "      <td>-0.463815</td>\n",
       "      <td>0.574993</td>\n",
       "      <td>-0.827396</td>\n",
       "      <td>-0.627123</td>\n",
       "      <td>1.768241</td>\n",
       "      <td>0.806560</td>\n",
       "      <td>0.428765</td>\n",
       "      <td>0.123359</td>\n",
       "      <td>20.1</td>\n",
       "    </tr>\n",
       "    <tr>\n",
       "      <th>1</th>\n",
       "      <td>0.213717</td>\n",
       "      <td>-0.532972</td>\n",
       "      <td>1.032087</td>\n",
       "      <td>3.546681</td>\n",
       "      <td>1.838382</td>\n",
       "      <td>-0.262835</td>\n",
       "      <td>0.571477</td>\n",
       "      <td>-0.554061</td>\n",
       "      <td>1.648514</td>\n",
       "      <td>1.507506</td>\n",
       "      <td>0.852215</td>\n",
       "      <td>0.412265</td>\n",
       "      <td>-0.130516</td>\n",
       "      <td>22.7</td>\n",
       "    </tr>\n",
       "    <tr>\n",
       "      <th>2</th>\n",
       "      <td>-0.424587</td>\n",
       "      <td>-0.050695</td>\n",
       "      <td>-0.666950</td>\n",
       "      <td>-0.281954</td>\n",
       "      <td>-1.168848</td>\n",
       "      <td>-1.006741</td>\n",
       "      <td>-1.066796</td>\n",
       "      <td>1.129889</td>\n",
       "      <td>-0.627123</td>\n",
       "      <td>-0.352409</td>\n",
       "      <td>0.258708</td>\n",
       "      <td>0.428765</td>\n",
       "      <td>0.088061</td>\n",
       "      <td>17.4</td>\n",
       "    </tr>\n",
       "    <tr>\n",
       "      <th>3</th>\n",
       "      <td>-0.141983</td>\n",
       "      <td>-0.532972</td>\n",
       "      <td>1.032087</td>\n",
       "      <td>-0.281954</td>\n",
       "      <td>0.280621</td>\n",
       "      <td>-0.620133</td>\n",
       "      <td>-0.887500</td>\n",
       "      <td>-0.107437</td>\n",
       "      <td>1.648514</td>\n",
       "      <td>1.507506</td>\n",
       "      <td>0.852215</td>\n",
       "      <td>0.135019</td>\n",
       "      <td>0.122001</td>\n",
       "      <td>20.6</td>\n",
       "    </tr>\n",
       "    <tr>\n",
       "      <th>4</th>\n",
       "      <td>-0.433021</td>\n",
       "      <td>-0.532972</td>\n",
       "      <td>-1.116072</td>\n",
       "      <td>-0.281954</td>\n",
       "      <td>-0.868958</td>\n",
       "      <td>1.536219</td>\n",
       "      <td>-0.163285</td>\n",
       "      <td>-0.209492</td>\n",
       "      <td>-0.854687</td>\n",
       "      <td>-0.752203</td>\n",
       "      <td>-0.152181</td>\n",
       "      <td>0.428765</td>\n",
       "      <td>-0.848696</td>\n",
       "      <td>33.2</td>\n",
       "    </tr>\n",
       "    <tr>\n",
       "      <th>5</th>\n",
       "      <td>-0.434045</td>\n",
       "      <td>-0.532972</td>\n",
       "      <td>-1.176802</td>\n",
       "      <td>-0.281954</td>\n",
       "      <td>-0.510756</td>\n",
       "      <td>-0.226546</td>\n",
       "      <td>0.058198</td>\n",
       "      <td>-0.305614</td>\n",
       "      <td>-0.740905</td>\n",
       "      <td>-1.233116</td>\n",
       "      <td>-0.243490</td>\n",
       "      <td>0.318876</td>\n",
       "      <td>0.096207</td>\n",
       "      <td>29.6</td>\n",
       "    </tr>\n",
       "    <tr>\n",
       "      <th>6</th>\n",
       "      <td>-0.407724</td>\n",
       "      <td>-0.532972</td>\n",
       "      <td>-0.126026</td>\n",
       "      <td>-0.281954</td>\n",
       "      <td>-0.044260</td>\n",
       "      <td>-0.068833</td>\n",
       "      <td>0.550383</td>\n",
       "      <td>-0.313153</td>\n",
       "      <td>-0.627123</td>\n",
       "      <td>-0.589968</td>\n",
       "      <td>0.030436</td>\n",
       "      <td>0.389366</td>\n",
       "      <td>-0.616543</td>\n",
       "      <td>21.6</td>\n",
       "    </tr>\n",
       "    <tr>\n",
       "      <th>7</th>\n",
       "      <td>-0.350219</td>\n",
       "      <td>-0.532972</td>\n",
       "      <td>-0.374597</td>\n",
       "      <td>-0.281954</td>\n",
       "      <td>-0.094242</td>\n",
       "      <td>-0.821113</td>\n",
       "      <td>0.082808</td>\n",
       "      <td>-0.075099</td>\n",
       "      <td>-0.627123</td>\n",
       "      <td>-0.572585</td>\n",
       "      <td>1.217450</td>\n",
       "      <td>0.361979</td>\n",
       "      <td>-0.157668</td>\n",
       "      <td>18.2</td>\n",
       "    </tr>\n",
       "    <tr>\n",
       "      <th>8</th>\n",
       "      <td>-0.436254</td>\n",
       "      <td>0.547328</td>\n",
       "      <td>0.599913</td>\n",
       "      <td>-0.281954</td>\n",
       "      <td>-0.710682</td>\n",
       "      <td>-0.092560</td>\n",
       "      <td>0.357025</td>\n",
       "      <td>-0.156056</td>\n",
       "      <td>-0.627123</td>\n",
       "      <td>-0.786968</td>\n",
       "      <td>-0.060872</td>\n",
       "      <td>0.428765</td>\n",
       "      <td>-0.251344</td>\n",
       "      <td>20.6</td>\n",
       "    </tr>\n",
       "    <tr>\n",
       "      <th>9</th>\n",
       "      <td>-0.432972</td>\n",
       "      <td>-0.532972</td>\n",
       "      <td>2.098399</td>\n",
       "      <td>-0.281954</td>\n",
       "      <td>0.263960</td>\n",
       "      <td>-0.621529</td>\n",
       "      <td>0.089839</td>\n",
       "      <td>-0.761471</td>\n",
       "      <td>-0.854687</td>\n",
       "      <td>-1.262086</td>\n",
       "      <td>0.350017</td>\n",
       "      <td>0.341775</td>\n",
       "      <td>0.261836</td>\n",
       "      <td>22.0</td>\n",
       "    </tr>\n",
       "  </tbody>\n",
       "</table>\n",
       "</div>"
      ],
      "text/plain": [
       "       CRIM        ZN     INDUS      CHAS       NOX        RM       AGE  \\\n",
       "0 -0.427639 -0.532972  2.393577 -0.281954  0.497208 -0.463815  0.574993   \n",
       "1  0.213717 -0.532972  1.032087  3.546681  1.838382 -0.262835  0.571477   \n",
       "2 -0.424587 -0.050695 -0.666950 -0.281954 -1.168848 -1.006741 -1.066796   \n",
       "3 -0.141983 -0.532972  1.032087 -0.281954  0.280621 -0.620133 -0.887500   \n",
       "4 -0.433021 -0.532972 -1.116072 -0.281954 -0.868958  1.536219 -0.163285   \n",
       "5 -0.434045 -0.532972 -1.176802 -0.281954 -0.510756 -0.226546  0.058198   \n",
       "6 -0.407724 -0.532972 -0.126026 -0.281954 -0.044260 -0.068833  0.550383   \n",
       "7 -0.350219 -0.532972 -0.374597 -0.281954 -0.094242 -0.821113  0.082808   \n",
       "8 -0.436254  0.547328  0.599913 -0.281954 -0.710682 -0.092560  0.357025   \n",
       "9 -0.432972 -0.532972  2.098399 -0.281954  0.263960 -0.621529  0.089839   \n",
       "\n",
       "        DIS       RAD       TAX   PTRATIO         B     LSTAT  MEDV  \n",
       "0 -0.827396 -0.627123  1.768241  0.806560  0.428765  0.123359  20.1  \n",
       "1 -0.554061  1.648514  1.507506  0.852215  0.412265 -0.130516  22.7  \n",
       "2  1.129889 -0.627123 -0.352409  0.258708  0.428765  0.088061  17.4  \n",
       "3 -0.107437  1.648514  1.507506  0.852215  0.135019  0.122001  20.6  \n",
       "4 -0.209492 -0.854687 -0.752203 -0.152181  0.428765 -0.848696  33.2  \n",
       "5 -0.305614 -0.740905 -1.233116 -0.243490  0.318876  0.096207  29.6  \n",
       "6 -0.313153 -0.627123 -0.589968  0.030436  0.389366 -0.616543  21.6  \n",
       "7 -0.075099 -0.627123 -0.572585  1.217450  0.361979 -0.157668  18.2  \n",
       "8 -0.156056 -0.627123 -0.786968 -0.060872  0.428765 -0.251344  20.6  \n",
       "9 -0.761471 -0.854687 -1.262086  0.350017  0.341775  0.261836  22.0  "
      ]
     },
     "execution_count": 39,
     "metadata": {},
     "output_type": "execute_result"
    }
   ],
   "source": [
    "# 查看数据信息\n",
    "df.info()\n",
    "# 从结果中可以看出，数据无任何缺失问题。因此无需做补全数据操作\n",
    "df.head(10)"
   ]
  },
  {
   "cell_type": "markdown",
   "metadata": {},
   "source": [
    "## 2、训练模型"
   ]
  },
  {
   "cell_type": "code",
   "execution_count": 22,
   "metadata": {},
   "outputs": [],
   "source": [
    "# 获取特征数据\n",
    "X = df[scikit_boston.feature_names]\n",
    "\n",
    "# 获取类别数据\n",
    "Y = df['MEDV']\n",
    "x_train,x_test,y_train,y_test = train_test_split(X,Y,test_size=0.2)\n",
    "\n",
    "\n",
    "# 归一化操作\n",
    "scaler = StandardScaler()\n",
    "x_train = scaler.fit_transform(x_train)\n",
    "x_test = scaler.fit_transform(x_test)\n",
    "\n",
    "# 重新加载数据\n",
    "df = pd.DataFrame(data=np.c_[x_train,y_train],columns=np.append(scikit_boston.feature_names,['MEDV']))"
   ]
  },
  {
   "cell_type": "markdown",
   "metadata": {},
   "source": [
    "## 3、模型预测"
   ]
  },
  {
   "cell_type": "code",
   "execution_count": 66,
   "metadata": {},
   "outputs": [],
   "source": [
    "# 多项式回归\n",
    "from sklearn.linear_model import LinearRegression\n",
    "from sklearn.preprocessing import PolynomialFeatures\n",
    "\n",
    "quadratic_featurizer = PolynomialFeatures(degree=1)\n",
    "X_train_quadratic = quadratic_featurizer.fit_transform(x_train)\n",
    "X_test_quadratic = quadratic_featurizer.transform(x_test)\n",
    "\n",
    "regressor_quadratic = LinearRegression()\n",
    "regressor_quadratic.fit(X_train_quadratic, y_train)\n",
    "\n",
    "y_pred = regressor_quadratic.predict(X_test_quadratic)\n"
   ]
  },
  {
   "cell_type": "markdown",
   "metadata": {},
   "source": [
    "## 4、评估"
   ]
  },
  {
   "cell_type": "code",
   "execution_count": 67,
   "metadata": {},
   "outputs": [
    {
     "data": {
      "text/plain": [
       "0.7557906015659583"
      ]
     },
     "execution_count": 67,
     "metadata": {},
     "output_type": "execute_result"
    }
   ],
   "source": [
    "from sklearn.metrics import r2_score\n",
    "r2_score(y_test,y_pred)\n",
    "\n",
    "# 可以适当调整 degree的参数值"
   ]
  },
  {
   "cell_type": "markdown",
   "metadata": {},
   "source": [
    "## 5、图表展示"
   ]
  },
  {
   "cell_type": "code",
   "execution_count": 65,
   "metadata": {
    "collapsed": true
   },
   "outputs": [
    {
     "data": {
      "text/plain": [
       "<matplotlib.collections.PathCollection at 0xe2dae10>"
      ]
     },
     "execution_count": 65,
     "metadata": {},
     "output_type": "execute_result"
    },
    {
     "data": {
      "image/png": "[encoded data removed]",
      "text/plain": [
       "<Figure size 432x288 with 1 Axes>"
      ]
     },
     "metadata": {},
     "output_type": "display_data"
    }
   ],
   "source": [
    "plt.scatter(x_test[0:50,11],y_test[0:50],c='r')\n",
    "plt.scatter(x_test[0:50,11],y_pred[0:50],c='b')"
   ]
  }
 ],
 "metadata": {
  "kernelspec": {
   "display_name": "Python 3",
   "language": "python",
   "name": "python3"
  },
  "language_info": {
   "codemirror_mode": {
    "name": "ipython",
    "version": 3
   },
   "file_extension": ".py",
   "mimetype": "text/x-python",
   "name": "python",
   "nbconvert_exporter": "python",
   "pygments_lexer": "ipython3",
   "version": "3.6.5"
  }
 },
 "nbformat": 4,
 "nbformat_minor": 2
}
